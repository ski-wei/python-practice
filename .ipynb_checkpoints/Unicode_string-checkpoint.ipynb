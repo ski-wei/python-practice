{
 "cells": [
  {
   "cell_type": "markdown",
   "id": "c38effc0",
   "metadata": {},
   "source": [
    "# 文本字符串\n",
    "\n",
    "## Unicode"
   ]
  },
  {
   "cell_type": "code",
   "execution_count": 1,
   "id": "78aa7ad7",
   "metadata": {
    "ExecuteTime": {
     "end_time": "2022-03-09T09:17:20.839262Z",
     "start_time": "2022-03-09T09:17:20.827936Z"
    }
   },
   "outputs": [
    {
     "name": "stdout",
     "output_type": "stream",
     "text": [
      "value = \"A\" , name = \"LATIN CAPITAL LETTER A\" , value2 = \"A\" \n",
      "value = \"$\" , name = \"DOLLAR SIGN\" , value2 = \"$\" \n",
      "value = \"¢\" , name = \"CENT SIGN\" , value2 = \"¢\" \n",
      "value = \"€\" , name = \"EURO SIGN\" , value2 = \"€\" \n",
      "value = \"☃\" , name = \"SNOWMAN\" , value2 = \"☃\" \n"
     ]
    }
   ],
   "source": [
    "def unicode_test(value):\n",
    "    import unicodedata\n",
    "    name = unicodedata.name(value)\n",
    "    value2 = unicodedata.lookup(name)\n",
    "    print('value = \"%s\" , name = \"%s\" , value2 = \"%s\" ' % (value, name, value2))\n",
    "\n",
    "unicode_test('A')\n",
    "unicode_test('$')\n",
    "unicode_test('\\u00a2')\n",
    "unicode_test('\\u20ac')\n",
    "unicode_test('\\u2603')"
   ]
  },
  {
   "cell_type": "markdown",
   "id": "b490e751",
   "metadata": {
    "ExecuteTime": {
     "end_time": "2022-03-08T10:10:46.982223Z",
     "start_time": "2022-03-08T10:10:46.939279Z"
    }
   },
   "source": [
    "## 使用`UTF-8`进行编码和解码"
   ]
  },
  {
   "cell_type": "code",
   "execution_count": 2,
   "id": "c3322598",
   "metadata": {
    "ExecuteTime": {
     "end_time": "2022-03-09T09:17:20.846590Z",
     "start_time": "2022-03-09T09:17:20.842071Z"
    }
   },
   "outputs": [
    {
     "name": "stdout",
     "output_type": "stream",
     "text": [
      "len(snowman =) 1\n",
      "len(ds) =  3\n",
      "ds =  b'\\xe2\\x98\\x83'\n",
      "es =  ☃\n"
     ]
    }
   ],
   "source": [
    "snowman = '\\u2603'\n",
    "print(\"len(snowman =)\",len(snowman))\n",
    "ds = snowman.encode('utf-8')\n",
    "print(\"len(ds) = \" , len(ds))\n",
    "print(\"ds = \", ds)\n",
    "es = ds.decode('utf-8')\n",
    "print(\"es = \", es)"
   ]
  },
  {
   "cell_type": "markdown",
   "id": "aec439a4",
   "metadata": {},
   "source": [
    "## 格式化\n",
    "\n",
    "### 使用%的旧式格式化"
   ]
  },
  {
   "cell_type": "code",
   "execution_count": 3,
   "id": "0b907fab",
   "metadata": {
    "ExecuteTime": {
     "end_time": "2022-03-09T09:17:20.851421Z",
     "start_time": "2022-03-09T09:17:20.848618Z"
    }
   },
   "outputs": [
    {
     "name": "stdout",
     "output_type": "stream",
     "text": [
      "Our cat Chester weighs 28.0 pounds.\n"
     ]
    }
   ],
   "source": [
    "cat = 'Chester'\n",
    "weight = 28\n",
    "\n",
    "print(\"Our cat %s weighs %2.1f pounds.\" % (cat, weight))"
   ]
  },
  {
   "cell_type": "markdown",
   "id": "3be0fbfe",
   "metadata": {},
   "source": [
    "### 使用\\{\\} 和 `format` 的新式格式化"
   ]
  },
  {
   "cell_type": "code",
   "execution_count": 4,
   "id": "bf7f3a34",
   "metadata": {
    "ExecuteTime": {
     "end_time": "2022-03-09T09:17:20.855871Z",
     "start_time": "2022-03-09T09:17:20.853210Z"
    }
   },
   "outputs": [
    {
     "name": "stdout",
     "output_type": "stream",
     "text": [
      "first: 42 second: 7.03 other third: string cheese\n"
     ]
    }
   ],
   "source": [
    "d = {'n' : 42, 'f' : 7.03, 's' : 'string cheese'}\n",
    "\n",
    "print('first: {0[n]} second: {0[f]} {1} third: {0[s]}'.format(d, 'other'))"
   ]
  },
  {
   "cell_type": "code",
   "execution_count": 5,
   "id": "5050f5e3",
   "metadata": {
    "ExecuteTime": {
     "end_time": "2022-03-09T09:17:20.864622Z",
     "start_time": "2022-03-09T09:17:20.860997Z"
    }
   },
   "outputs": [
    {
     "name": "stdout",
     "output_type": "stream",
     "text": [
      "        42  7.030000string cheese\n",
      "42        7.030000  string cheese\n",
      "    42     7.030000 string cheese\n"
     ]
    }
   ],
   "source": [
    "n = 42\n",
    "f = 7.03\n",
    "s = 'string cheese'\n",
    "# 右对齐\n",
    "print('{0:>10d}{1:>10f}{2:>10s}'.format(n, f, s))\n",
    "# 左对齐\n",
    "print('{0:<10d}{1:<10f}{2:<10s}'.format(n, f, s))\n",
    "# 居中\n",
    "print('{0:^10d}{1:^10f}{2:^10s}'.format(n, f, s))"
   ]
  },
  {
   "cell_type": "markdown",
   "id": "79846308",
   "metadata": {},
   "source": [
    "## 使用正则表达式匹配\n",
    "`match()`用于查看`source`是否以`pattern`开头。\n",
    "* `search()`会返回第一次成功匹配，如果存在的话\n",
    "* `findall()`会返回所有不重叠的匹配，如果存在的话\n",
    "* `split()` 会根据`pattern`将`source`切分成若干段，返回由这些片段组成的列表\n",
    "* `sub()` 还需要一个额外的参数`replacement`，它会把`source`中所有匹配的`pattern`改成`replacement`\n",
    "\n",
    "### 使用`match()`和`search()`进行准确匹配"
   ]
  },
  {
   "cell_type": "code",
   "execution_count": 6,
   "id": "ff65b794",
   "metadata": {
    "ExecuteTime": {
     "end_time": "2022-03-09T09:17:20.872363Z",
     "start_time": "2022-03-09T09:17:20.866040Z"
    }
   },
   "outputs": [
    {
     "name": "stdout",
     "output_type": "stream",
     "text": [
      "1. match() : You\n",
      "2. match() + compile() : You\n",
      "4. search() : Frank\n",
      "5. match() : Young Frank\n"
     ]
    }
   ],
   "source": [
    "import re\n",
    "source = 'Young Frankenstein'\n",
    "m = re.match('You', source)\n",
    "if m:\n",
    "    print(\"1. match() :\", m.group())\n",
    "    \n",
    "# 可以对 pattern 进行编译后匹配\n",
    "youpattern = re.compile('You')\n",
    "m = youpattern.match(source)\n",
    "if m:\n",
    "    print(\"2. match() + compile() :\", m.group())\n",
    "\n",
    "m = re.match('Frank', source)\n",
    "if m:\n",
    "    print(\"3. match() :\", m.group())\n",
    "\n",
    "m = re.search('Frank', source)\n",
    "if m:\n",
    "    print(\"4. search() :\", m.group())\n",
    "\n",
    "m = re.match('.*Frank', source)\n",
    "if m:\n",
    "    print(\"5. match() :\", m.group())"
   ]
  },
  {
   "cell_type": "markdown",
   "id": "3c8d3807",
   "metadata": {},
   "source": [
    "对 `5. match()`的解释：\n",
    "* `.`代表任意单字符\n",
    "* `*`代表任意一个它之前的字符，`.*`代表任意多个字符，`.?`代表字符是可选的\n",
    "\n",
    "### 使用`findall()`寻找所有匹配"
   ]
  },
  {
   "cell_type": "code",
   "execution_count": 7,
   "id": "d410c6af",
   "metadata": {
    "ExecuteTime": {
     "end_time": "2022-03-09T09:17:20.876738Z",
     "start_time": "2022-03-09T09:17:20.873555Z"
    }
   },
   "outputs": [
    {
     "name": "stdout",
     "output_type": "stream",
     "text": [
      "Found 4 maches: ['ng', 'nk', 'ns', 'n']\n"
     ]
    }
   ],
   "source": [
    "m = re.findall('n.?', source)\n",
    "print('Found', len(m), 'maches:',m)"
   ]
  },
  {
   "cell_type": "markdown",
   "id": "2970e0b5",
   "metadata": {},
   "source": [
    "### 使用`split()`按匹配划分"
   ]
  },
  {
   "cell_type": "code",
   "execution_count": 8,
   "id": "95c6ea7d",
   "metadata": {
    "ExecuteTime": {
     "end_time": "2022-03-09T09:17:20.881625Z",
     "start_time": "2022-03-09T09:17:20.879252Z"
    }
   },
   "outputs": [
    {
     "name": "stdout",
     "output_type": "stream",
     "text": [
      "After split: ['You', 'g Fra', 'ke', 'stei', '']\n"
     ]
    }
   ],
   "source": [
    "m = re.split('n', source)\n",
    "print('After split:', m)"
   ]
  },
  {
   "cell_type": "markdown",
   "id": "f84ba111",
   "metadata": {},
   "source": [
    "### 使用`sub()`替换匹配"
   ]
  },
  {
   "cell_type": "code",
   "execution_count": 9,
   "id": "58a3a057",
   "metadata": {
    "ExecuteTime": {
     "end_time": "2022-03-09T09:17:20.886640Z",
     "start_time": "2022-03-09T09:17:20.883064Z"
    }
   },
   "outputs": [
    {
     "name": "stdout",
     "output_type": "stream",
     "text": [
      "After replace: You?g Fra?ke?stei?\n"
     ]
    }
   ],
   "source": [
    "m = re.sub('n', '?',source)\n",
    "print('After replace:', m)"
   ]
  },
  {
   "cell_type": "markdown",
   "id": "c5bdeafd",
   "metadata": {},
   "source": [
    "### 模式: 特殊字符\n",
    "\n",
    "基本模式\n",
    "* 普通文本值代表自身\n",
    "* `.`代表任意除`\\n`外的字符\n",
    "* `*`表示任意多个字符(包括0个)\n",
    "* `?`表示可选字符(1个或0个)\n",
    "\n",
    "特殊字符\n",
    "* `\\d`   一个数字字符\n",
    "* `\\D`    一个非数字字符\n",
    "* `\\w`    一个字母或数字字符\n",
    "* `\\W`    一个非字母且非数字字符\n",
    "* `\\s`    空白符\n",
    "* `\\S`    非空白符\n",
    "* `\\b`    单词边界\n",
    "* `\\B`    非单词边界"
   ]
  },
  {
   "cell_type": "code",
   "execution_count": 10,
   "id": "1f4800f8",
   "metadata": {
    "ExecuteTime": {
     "end_time": "2022-03-09T09:17:20.891821Z",
     "start_time": "2022-03-09T09:17:20.887999Z"
    }
   },
   "outputs": [
    {
     "name": "stdout",
     "output_type": "stream",
     "text": [
      "len(printable): 100\n",
      "0123456789abcdefghijklmnopqrstuvwxyzABCDEFGHIJKLMN \n",
      " OPQRSTUVWXYZ!\"#$%&'()*+,-./:;<=>?@[\\]^_`{|}~ \t\n",
      "\r",
      "\u000b",
      "\f",
      "\n"
     ]
    }
   ],
   "source": [
    "import string\n",
    "printable = string.printable\n",
    "print('len(printable):', len(printable))\n",
    "print(printable[0:50],'\\n',printable[50:])"
   ]
  },
  {
   "cell_type": "markdown",
   "id": "ff9d2c03",
   "metadata": {},
   "source": [
    "`printable`中的数字"
   ]
  },
  {
   "cell_type": "code",
   "execution_count": 11,
   "id": "739d6c10",
   "metadata": {
    "ExecuteTime": {
     "end_time": "2022-03-09T09:17:20.896046Z",
     "start_time": "2022-03-09T09:17:20.893140Z"
    }
   },
   "outputs": [
    {
     "name": "stdout",
     "output_type": "stream",
     "text": [
      "dight in printable: ['0', '1', '2', '3', '4', '5', '6', '7', '8', '9']\n"
     ]
    }
   ],
   "source": [
    "p_dight = re.findall('\\d', printable)\n",
    "print('dight in printable:', p_dight)"
   ]
  },
  {
   "cell_type": "markdown",
   "id": "bb86c902",
   "metadata": {},
   "source": [
    "`printable`中的数字，字符以及下划线"
   ]
  },
  {
   "cell_type": "code",
   "execution_count": 12,
   "id": "8cb477c3",
   "metadata": {
    "ExecuteTime": {
     "end_time": "2022-03-09T09:17:20.900406Z",
     "start_time": "2022-03-09T09:17:20.897373Z"
    }
   },
   "outputs": [
    {
     "name": "stdout",
     "output_type": "stream",
     "text": [
      "word in printable: ['0', '1', '2', '3', '4', '5', '6', '7', '8', '9', 'a', 'b', 'c', 'd', 'e', 'f', 'g', 'h', 'i', 'j', 'k', 'l', 'm', 'n', 'o', 'p', 'q', 'r', 's', 't', 'u', 'v', 'w', 'x', 'y', 'z', 'A', 'B', 'C', 'D', 'E', 'F', 'G', 'H', 'I', 'J', 'K', 'L', 'M', 'N', 'O', 'P', 'Q', 'R', 'S', 'T', 'U', 'V', 'W', 'X', 'Y', 'Z', '_']\n"
     ]
    }
   ],
   "source": [
    "p_word = re.findall('\\w', printable)\n",
    "print('word in printable:', p_word)"
   ]
  },
  {
   "cell_type": "markdown",
   "id": "0b0507be",
   "metadata": {},
   "source": [
    "`printable`中的空白符"
   ]
  },
  {
   "cell_type": "code",
   "execution_count": 13,
   "id": "89079afc",
   "metadata": {
    "ExecuteTime": {
     "end_time": "2022-03-09T09:17:20.904562Z",
     "start_time": "2022-03-09T09:17:20.901675Z"
    }
   },
   "outputs": [
    {
     "name": "stdout",
     "output_type": "stream",
     "text": [
      "space in printable: [' ', '\\t', '\\n', '\\r', '\\x0b', '\\x0c']\n"
     ]
    }
   ],
   "source": [
    "p_space = re.findall('\\s', printable)\n",
    "print('space in printable:', p_space)"
   ]
  },
  {
   "cell_type": "markdown",
   "id": "8789f3b2",
   "metadata": {},
   "source": [
    "### 模式： 使用标识符\n",
    "\n",
    "* `abc`文本值abc\n",
    "* `(expr)`expr\n",
    "* `expr1|expr2` expr1或expr2\n",
    "* `^`源字符串开头\n",
    "* `$`源字符串结尾\n",
    "* `prev?`  0个或1个`prev`\n",
    "* `prev*`  0个或多个`prev`，尽可能多地匹配\n",
    "* `prev*?`  0个或多个`prev`，尽可能少地匹配\n",
    "* `prev+`  1个或多个`prev`，尽可能多地匹配\n",
    "* `prev+?`  1个或多个`prev`，尽可能少地匹配\n",
    "* `prev\\{m\\}`m个连续的`prev`\n",
    "* `prev\\{m,n \\}` m到n个连续的`prev`， 尽可能多地匹配\n",
    "* `prev\\{m,n \\}?` m到n个连续的`prev`， 尽可能少地匹配\n",
    "* `\\[abc\\]`a或b或c\n",
    "* `\\[^abc\\]`非(a或b或c)\n",
    "* `prev(?=next)`如果后面为`next`，返回`prev`\n",
    "* `prev(?!next)`如果后面非`next`，返回`prev`\n",
    "* `(?<=prev)next`如果前面为`prev`，返回`next`\n",
    "* `(?<!prev)next`如果前面非`prev`，返回`next`\n",
    "\n",
    "\n",
    "定义源字符串(source)"
   ]
  },
  {
   "cell_type": "code",
   "execution_count": 14,
   "id": "7b96fafa",
   "metadata": {
    "ExecuteTime": {
     "end_time": "2022-03-09T09:17:20.908150Z",
     "start_time": "2022-03-09T09:17:20.905711Z"
    }
   },
   "outputs": [],
   "source": [
    "source = '''I wish I may, I wish I might\n",
    "Have a dish of fish tonight.'''"
   ]
  },
  {
   "cell_type": "markdown",
   "id": "fc1502e7",
   "metadata": {},
   "source": [
    "检索`wish`:"
   ]
  },
  {
   "cell_type": "code",
   "execution_count": 15,
   "id": "eb6a485e",
   "metadata": {
    "ExecuteTime": {
     "end_time": "2022-03-09T09:17:20.922307Z",
     "start_time": "2022-03-09T09:17:20.909532Z"
    }
   },
   "outputs": [
    {
     "data": {
      "text/plain": [
       "['wish', 'wish']"
      ]
     },
     "execution_count": 15,
     "metadata": {},
     "output_type": "execute_result"
    }
   ],
   "source": [
    "re.findall('wish', source)"
   ]
  },
  {
   "cell_type": "markdown",
   "id": "828b63e0",
   "metadata": {},
   "source": [
    "检索`wish`或`fish`:"
   ]
  },
  {
   "cell_type": "code",
   "execution_count": 16,
   "id": "43a98fb8",
   "metadata": {
    "ExecuteTime": {
     "end_time": "2022-03-09T09:17:20.928444Z",
     "start_time": "2022-03-09T09:17:20.923688Z"
    }
   },
   "outputs": [
    {
     "data": {
      "text/plain": [
       "['wish', 'wish', 'fish']"
      ]
     },
     "execution_count": 16,
     "metadata": {},
     "output_type": "execute_result"
    }
   ],
   "source": [
    "re.findall('wish|fish', source)"
   ]
  },
  {
   "cell_type": "markdown",
   "id": "269ad61a",
   "metadata": {},
   "source": [
    "从字符串开头匹配`wish`:"
   ]
  },
  {
   "cell_type": "code",
   "execution_count": 17,
   "id": "1c4b5570",
   "metadata": {
    "ExecuteTime": {
     "end_time": "2022-03-09T09:17:20.933158Z",
     "start_time": "2022-03-09T09:17:20.929922Z"
    }
   },
   "outputs": [
    {
     "data": {
      "text/plain": [
       "[]"
      ]
     },
     "execution_count": 17,
     "metadata": {},
     "output_type": "execute_result"
    }
   ],
   "source": [
    "re.findall('^wish',source)"
   ]
  },
  {
   "cell_type": "markdown",
   "id": "801c59f5",
   "metadata": {},
   "source": [
    "从字符串开头匹配`I'wish`:"
   ]
  },
  {
   "cell_type": "code",
   "execution_count": 18,
   "id": "4db2fa64",
   "metadata": {
    "ExecuteTime": {
     "end_time": "2022-03-09T09:17:20.939838Z",
     "start_time": "2022-03-09T09:17:20.934907Z"
    }
   },
   "outputs": [
    {
     "data": {
      "text/plain": [
       "['I wish']"
      ]
     },
     "execution_count": 18,
     "metadata": {},
     "output_type": "execute_result"
    }
   ],
   "source": [
    "re.findall('^I wish', source)"
   ]
  },
  {
   "cell_type": "markdown",
   "id": "58dce581",
   "metadata": {},
   "source": [
    "从字符串结尾匹配`fish tonight.`:"
   ]
  },
  {
   "cell_type": "code",
   "execution_count": 19,
   "id": "67a1f909",
   "metadata": {
    "ExecuteTime": {
     "end_time": "2022-03-09T09:17:20.944522Z",
     "start_time": "2022-03-09T09:17:20.941132Z"
    }
   },
   "outputs": [
    {
     "data": {
      "text/plain": [
       "['fish tonight.']"
      ]
     },
     "execution_count": 19,
     "metadata": {},
     "output_type": "execute_result"
    }
   ],
   "source": [
    "re.findall('fish tonight\\.$', source)"
   ]
  },
  {
   "cell_type": "markdown",
   "id": "8b34859a",
   "metadata": {},
   "source": [
    "`^`和`$`称为锚点(anchor)，分别将搜索域定位到开头和结尾。\n",
    "\n",
    "接下来查询以`w`或`f`开头，后面紧接着`ish`的匹配："
   ]
  },
  {
   "cell_type": "code",
   "execution_count": 20,
   "id": "8381aedf",
   "metadata": {
    "ExecuteTime": {
     "end_time": "2022-03-09T09:17:20.949035Z",
     "start_time": "2022-03-09T09:17:20.945710Z"
    }
   },
   "outputs": [
    {
     "data": {
      "text/plain": [
       "['wish', 'wish', 'fish']"
      ]
     },
     "execution_count": 20,
     "metadata": {},
     "output_type": "execute_result"
    }
   ],
   "source": [
    "re.findall('[wf]ish', source)"
   ]
  },
  {
   "cell_type": "markdown",
   "id": "f9637552",
   "metadata": {},
   "source": [
    "查询以若干个w，s或h组合的匹配："
   ]
  },
  {
   "cell_type": "code",
   "execution_count": 21,
   "id": "d016bfd1",
   "metadata": {
    "ExecuteTime": {
     "end_time": "2022-03-09T09:17:20.961613Z",
     "start_time": "2022-03-09T09:17:20.957840Z"
    }
   },
   "outputs": [
    {
     "data": {
      "text/plain": [
       "['w', 'sh', 'w', 'sh', 'h', 'sh', 'sh', 'h']"
      ]
     },
     "execution_count": 21,
     "metadata": {},
     "output_type": "execute_result"
    }
   ],
   "source": [
    "re.findall('[wsh]+', source)"
   ]
  },
  {
   "cell_type": "markdown",
   "id": "bd448507",
   "metadata": {},
   "source": [
    "查询以`ght`开头，后面紧跟一个非数字非字母字符的匹配:"
   ]
  },
  {
   "cell_type": "code",
   "execution_count": 22,
   "id": "dc029d2e",
   "metadata": {
    "ExecuteTime": {
     "end_time": "2022-03-09T09:17:20.971455Z",
     "start_time": "2022-03-09T09:17:20.964432Z"
    }
   },
   "outputs": [
    {
     "data": {
      "text/plain": [
       "['ght\\n', 'ght.']"
      ]
     },
     "execution_count": 22,
     "metadata": {},
     "output_type": "execute_result"
    }
   ],
   "source": [
    "re.findall('ght\\W', source)"
   ]
  },
  {
   "cell_type": "markdown",
   "id": "f5b00e52",
   "metadata": {},
   "source": [
    "查询以`I`开头，后面跟着`wish`的匹配(`wish`出现次数尽量少)"
   ]
  },
  {
   "cell_type": "code",
   "execution_count": 23,
   "id": "16d46b07",
   "metadata": {
    "ExecuteTime": {
     "end_time": "2022-03-09T09:17:20.981833Z",
     "start_time": "2022-03-09T09:17:20.975790Z"
    }
   },
   "outputs": [
    {
     "data": {
      "text/plain": [
       "['I ', 'I ']"
      ]
     },
     "execution_count": 23,
     "metadata": {},
     "output_type": "execute_result"
    }
   ],
   "source": [
    "re.findall('I (?=wish)',source)"
   ]
  },
  {
   "cell_type": "markdown",
   "id": "94c0ccd0",
   "metadata": {},
   "source": [
    "查询以`wish`结尾，前面为`I`的匹配(`I`出现次数尽量少)"
   ]
  },
  {
   "cell_type": "code",
   "execution_count": 24,
   "id": "bf56b2c4",
   "metadata": {
    "ExecuteTime": {
     "end_time": "2022-03-09T09:17:20.988633Z",
     "start_time": "2022-03-09T09:17:20.984398Z"
    }
   },
   "outputs": [
    {
     "data": {
      "text/plain": [
       "[' wish', ' wish']"
      ]
     },
     "execution_count": 24,
     "metadata": {},
     "output_type": "execute_result"
    }
   ],
   "source": [
    "re.findall('(?<=I) wish', source)"
   ]
  },
  {
   "cell_type": "markdown",
   "id": "a3de2457",
   "metadata": {},
   "source": [
    "### 模式：定义匹配的输出\n",
    "\n",
    "匹配时，如果用括号将某一模式包裹起来，括号中模式匹配得到的结果归入自己的group(未命名)中，调用`m.groups`可以得到包含这些匹配的元组，还可通过`(?P< name > expr)`的形式给匹配结果命名。"
   ]
  },
  {
   "cell_type": "code",
   "execution_count": 25,
   "id": "8dbb2177",
   "metadata": {
    "ExecuteTime": {
     "end_time": "2022-03-09T09:32:15.676611Z",
     "start_time": "2022-03-09T09:32:15.673557Z"
    }
   },
   "outputs": [
    {
     "name": "stdout",
     "output_type": "stream",
     "text": [
      "a dish of fish\n",
      "('a dish', 'fish')\n"
     ]
    }
   ],
   "source": [
    "m = re.search(r'(. dish\\b).*(\\bfish)', source)\n",
    "print(m.group())\n",
    "print(m.groups())"
   ]
  },
  {
   "cell_type": "code",
   "execution_count": 26,
   "id": "e53ff29f",
   "metadata": {
    "ExecuteTime": {
     "end_time": "2022-03-09T09:34:55.174507Z",
     "start_time": "2022-03-09T09:34:55.169533Z"
    }
   },
   "outputs": [
    {
     "name": "stdout",
     "output_type": "stream",
     "text": [
      "a dish of fish\n",
      "('a dish', 'fish')\n",
      "a dish\n",
      "fish\n"
     ]
    }
   ],
   "source": [
    "m = re.search(r'(?P<DISH>. dish\\b).*(?P<FISH>\\bfish)', source)\n",
    "print(m.group())\n",
    "print(m.groups())\n",
    "print(m.group('DISH'))\n",
    "print(m.group('FISH'))"
   ]
  },
  {
   "cell_type": "markdown",
   "id": "41377126",
   "metadata": {},
   "source": [
    "# 二进制数据\n",
    "## 字节和字节数组\n",
    "\n",
    "字节可变，字节数组不可变。类似于`C`中字符数组可变，字符串常量不可变。"
   ]
  },
  {
   "cell_type": "code",
   "execution_count": 28,
   "id": "b360722a",
   "metadata": {
    "ExecuteTime": {
     "end_time": "2022-03-09T09:40:48.081057Z",
     "start_time": "2022-03-09T09:40:48.073586Z"
    }
   },
   "outputs": [
    {
     "name": "stdout",
     "output_type": "stream",
     "text": [
      "the bytes= b'\\x01\\x02\\x03\\xff'\n"
     ]
    },
    {
     "ename": "TypeError",
     "evalue": "'bytes' object does not support item assignment",
     "output_type": "error",
     "traceback": [
      "\u001b[0;31m---------------------------------------------------------------------------\u001b[0m",
      "\u001b[0;31mTypeError\u001b[0m                                 Traceback (most recent call last)",
      "\u001b[0;32m<ipython-input-28-08b81307f13c>\u001b[0m in \u001b[0;36m<module>\u001b[0;34m\u001b[0m\n\u001b[1;32m      3\u001b[0m \u001b[0mthe_bytes\u001b[0m \u001b[0;34m=\u001b[0m \u001b[0mbytes\u001b[0m\u001b[0;34m(\u001b[0m\u001b[0mblist\u001b[0m\u001b[0;34m)\u001b[0m\u001b[0;34m\u001b[0m\u001b[0;34m\u001b[0m\u001b[0m\n\u001b[1;32m      4\u001b[0m \u001b[0mprint\u001b[0m\u001b[0;34m(\u001b[0m\u001b[0;34m'the bytes='\u001b[0m\u001b[0;34m,\u001b[0m \u001b[0mthe_bytes\u001b[0m\u001b[0;34m)\u001b[0m\u001b[0;34m\u001b[0m\u001b[0;34m\u001b[0m\u001b[0m\n\u001b[0;32m----> 5\u001b[0;31m \u001b[0mthe_bytes\u001b[0m\u001b[0;34m[\u001b[0m\u001b[0;36m1\u001b[0m\u001b[0;34m]\u001b[0m \u001b[0;34m=\u001b[0m \u001b[0;36m127\u001b[0m\u001b[0;34m\u001b[0m\u001b[0;34m\u001b[0m\u001b[0m\n\u001b[0m\u001b[1;32m      6\u001b[0m \u001b[0mprint\u001b[0m\u001b[0;34m(\u001b[0m\u001b[0;34m'the bytes='\u001b[0m\u001b[0;34m,\u001b[0m \u001b[0mthe_bytes\u001b[0m\u001b[0;34m)\u001b[0m\u001b[0;34m\u001b[0m\u001b[0;34m\u001b[0m\u001b[0m\n",
      "\u001b[0;31mTypeError\u001b[0m: 'bytes' object does not support item assignment"
     ]
    }
   ],
   "source": [
    "blist = [1, 2, 3, 255]\n",
    "#字节\n",
    "the_bytes = bytes(blist)\n",
    "print('the bytes=', the_bytes)\n",
    "the_bytes[1] = 127\n",
    "print('the bytes=', the_bytes)"
   ]
  },
  {
   "cell_type": "code",
   "execution_count": 29,
   "id": "15b9e6a5",
   "metadata": {
    "ExecuteTime": {
     "end_time": "2022-03-09T09:40:50.392792Z",
     "start_time": "2022-03-09T09:40:50.389240Z"
    }
   },
   "outputs": [
    {
     "name": "stdout",
     "output_type": "stream",
     "text": [
      "the byte array= bytearray(b'\\x01\\x02\\x03\\xff')\n",
      "the byte array= bytearray(b'\\x01\\x7f\\x03\\xff')\n"
     ]
    }
   ],
   "source": [
    "#字节数组\n",
    "the_byte_array = bytearray(blist)\n",
    "print('the byte array=', the_byte_array)\n",
    "the_byte_array[1] = 127\n",
    "print('the byte array=', the_byte_array)"
   ]
  },
  {
   "cell_type": "markdown",
   "id": "a166851c",
   "metadata": {},
   "source": [
    "## 使用`struct`转换二进制数据\n",
    "\n",
    "`struct.pack()`可将Python数据转换为字节，而`struct.unpack()`可以实现其逆过程。"
   ]
  },
  {
   "cell_type": "code",
   "execution_count": 33,
   "id": "92abb57d",
   "metadata": {
    "ExecuteTime": {
     "end_time": "2022-03-09T09:48:39.902189Z",
     "start_time": "2022-03-09T09:48:39.898833Z"
    }
   },
   "outputs": [
    {
     "data": {
      "text/plain": [
       "(154,)"
      ]
     },
     "execution_count": 33,
     "metadata": {},
     "output_type": "execute_result"
    }
   ],
   "source": [
    "import struct\n",
    "\n",
    "struct.pack('>L', 154)\n",
    "struct.unpack('<L', b'\\x9a\\x00\\x00\\x00')"
   ]
  },
  {
   "cell_type": "markdown",
   "id": "0d2623af",
   "metadata": {},
   "source": [
    "字节序标识符\n",
    "* `<` 小端方案\n",
    "* `>` 大端方案\n",
    "\n",
    "格式标识符\n",
    "* `x` 跳过一个字节\n",
    "* `b`有符号字节\n",
    "* `B` 无符号字节\n",
    "* `h` 有符号短整数\n",
    "* `H` 无符号短整数\n",
    "* `i`有符号整数\n",
    "* `I`无符号整数\n",
    "* `l`有符号长整数\n",
    "* `L`无符号长整数\n",
    "* `Q`无符号long long型整数\n",
    "* `f`单精度浮点数\n",
    "* `d`双精度浮点数\n",
    "* `p` 数量和字符\n",
    "* `s`字符"
   ]
  }
 ],
 "metadata": {
  "kernelspec": {
   "display_name": "Python 3",
   "language": "python",
   "name": "python3"
  },
  "language_info": {
   "codemirror_mode": {
    "name": "ipython",
    "version": 3
   },
   "file_extension": ".py",
   "mimetype": "text/x-python",
   "name": "python",
   "nbconvert_exporter": "python",
   "pygments_lexer": "ipython3",
   "version": "3.8.8"
  },
  "toc": {
   "base_numbering": 1,
   "nav_menu": {},
   "number_sections": true,
   "sideBar": true,
   "skip_h1_title": false,
   "title_cell": "Table of Contents",
   "title_sidebar": "Contents",
   "toc_cell": false,
   "toc_position": {},
   "toc_section_display": true,
   "toc_window_display": true
  }
 },
 "nbformat": 4,
 "nbformat_minor": 5
}
