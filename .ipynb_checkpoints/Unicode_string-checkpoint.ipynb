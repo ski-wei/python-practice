{
 "cells": [
  {
   "cell_type": "markdown",
   "id": "c38effc0",
   "metadata": {},
   "source": [
    "# 文本字符串\n",
    "\n",
    "## Unicode"
   ]
  },
  {
   "cell_type": "code",
   "execution_count": 5,
   "id": "78aa7ad7",
   "metadata": {
    "ExecuteTime": {
     "end_time": "2022-03-08T10:12:59.924216Z",
     "start_time": "2022-03-08T10:12:59.920242Z"
    }
   },
   "outputs": [
    {
     "name": "stdout",
     "output_type": "stream",
     "text": [
      "value = \"A\" , name = \"LATIN CAPITAL LETTER A\" , value2 = \"A\" \n",
      "value = \"$\" , name = \"DOLLAR SIGN\" , value2 = \"$\" \n",
      "value = \"¢\" , name = \"CENT SIGN\" , value2 = \"¢\" \n",
      "value = \"€\" , name = \"EURO SIGN\" , value2 = \"€\" \n",
      "value = \"☃\" , name = \"SNOWMAN\" , value2 = \"☃\" \n"
     ]
    }
   ],
   "source": [
    "def unicode_test(value):\n",
    "    import unicodedata\n",
    "    name = unicodedata.name(value)\n",
    "    value2 = unicodedata.lookup(name)\n",
    "    print('value = \"%s\" , name = \"%s\" , value2 = \"%s\" ' % (value, name, value2))\n",
    "\n",
    "unicode_test('A')\n",
    "unicode_test('$')\n",
    "unicode_test('\\u00a2')\n",
    "unicode_test('\\u20ac')\n",
    "unicode_test('\\u2603')"
   ]
  },
  {
   "cell_type": "markdown",
   "id": "b490e751",
   "metadata": {
    "ExecuteTime": {
     "end_time": "2022-03-08T10:10:46.982223Z",
     "start_time": "2022-03-08T10:10:46.939279Z"
    }
   },
   "source": [
    "## 使用`UTF-8`进行编码和解码"
   ]
  },
  {
   "cell_type": "code",
   "execution_count": 7,
   "id": "c3322598",
   "metadata": {
    "ExecuteTime": {
     "end_time": "2022-03-08T10:21:22.675103Z",
     "start_time": "2022-03-08T10:21:22.671322Z"
    }
   },
   "outputs": [
    {
     "name": "stdout",
     "output_type": "stream",
     "text": [
      "len(snowman =) 1\n",
      "len(ds) =  3\n",
      "ds =  b'\\xe2\\x98\\x83'\n",
      "es =  ☃\n"
     ]
    }
   ],
   "source": [
    "snowman = '\\u2603'\n",
    "print(\"len(snowman =)\",len(snowman))\n",
    "ds = snowman.encode('utf-8')\n",
    "print(\"len(ds) = \" , len(ds))\n",
    "print(\"ds = \", ds)\n",
    "es = ds.decode('utf-8')\n",
    "print(\"es = \", es)"
   ]
  },
  {
   "cell_type": "markdown",
   "id": "aec439a4",
   "metadata": {},
   "source": [
    "## 格式化\n",
    "\n",
    "### 使用%的旧式格式化"
   ]
  },
  {
   "cell_type": "code",
   "execution_count": 9,
   "id": "0b907fab",
   "metadata": {
    "ExecuteTime": {
     "end_time": "2022-03-08T10:25:51.722068Z",
     "start_time": "2022-03-08T10:25:51.719128Z"
    }
   },
   "outputs": [
    {
     "name": "stdout",
     "output_type": "stream",
     "text": [
      "Our cat Chester weighs 28.0 pounds.\n"
     ]
    }
   ],
   "source": [
    "cat = 'Chester'\n",
    "weight = 28\n",
    "\n",
    "print(\"Our cat %s weighs %2.1f pounds.\" % (cat, weight))"
   ]
  },
  {
   "cell_type": "markdown",
   "id": "3be0fbfe",
   "metadata": {},
   "source": [
    "### 使用\\{\\} 和 `format` 的新式格式化"
   ]
  },
  {
   "cell_type": "code",
   "execution_count": 11,
   "id": "bf7f3a34",
   "metadata": {
    "ExecuteTime": {
     "end_time": "2022-03-08T10:32:34.561381Z",
     "start_time": "2022-03-08T10:32:34.558282Z"
    }
   },
   "outputs": [
    {
     "name": "stdout",
     "output_type": "stream",
     "text": [
      "first: 42 second: 7.03 other third: string cheese\n"
     ]
    }
   ],
   "source": [
    "d = {'n' : 42, 'f' : 7.03, 's' : 'string cheese'}\n",
    "\n",
    "print('first: {0[n]} second: {0[f]} {1} third: {0[s]}'.format(d, 'other'))"
   ]
  },
  {
   "cell_type": "code",
   "execution_count": 12,
   "id": "5050f5e3",
   "metadata": {
    "ExecuteTime": {
     "end_time": "2022-03-08T10:37:07.069449Z",
     "start_time": "2022-03-08T10:37:07.066110Z"
    }
   },
   "outputs": [
    {
     "name": "stdout",
     "output_type": "stream",
     "text": [
      "        42  7.030000string cheese\n",
      "42        7.030000  string cheese\n",
      "    42     7.030000 string cheese\n"
     ]
    }
   ],
   "source": [
    "n = 42\n",
    "f = 7.03\n",
    "s = 'string cheese'\n",
    "# 右对齐\n",
    "print('{0:>10d}{1:>10f}{2:>10s}'.format(n, f, s))\n",
    "# 左对齐\n",
    "print('{0:<10d}{1:<10f}{2:<10s}'.format(n, f, s))\n",
    "# 居中\n",
    "print('{0:^10d}{1:^10f}{2:^10s}'.format(n, f, s))"
   ]
  },
  {
   "cell_type": "markdown",
   "id": "79846308",
   "metadata": {},
   "source": [
    "## 使用正则表达式匹配"
   ]
  },
  {
   "cell_type": "code",
   "execution_count": null,
   "id": "ff65b794",
   "metadata": {},
   "outputs": [],
   "source": []
  }
 ],
 "metadata": {
  "kernelspec": {
   "display_name": "Python 3",
   "language": "python",
   "name": "python3"
  },
  "language_info": {
   "codemirror_mode": {
    "name": "ipython",
    "version": 3
   },
   "file_extension": ".py",
   "mimetype": "text/x-python",
   "name": "python",
   "nbconvert_exporter": "python",
   "pygments_lexer": "ipython3",
   "version": "3.8.8"
  },
  "toc": {
   "base_numbering": 1,
   "nav_menu": {},
   "number_sections": true,
   "sideBar": true,
   "skip_h1_title": false,
   "title_cell": "Table of Contents",
   "title_sidebar": "Contents",
   "toc_cell": false,
   "toc_position": {},
   "toc_section_display": true,
   "toc_window_display": true
  }
 },
 "nbformat": 4,
 "nbformat_minor": 5
}
