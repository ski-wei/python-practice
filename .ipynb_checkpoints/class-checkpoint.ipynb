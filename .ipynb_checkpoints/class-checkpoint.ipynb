{
 "cells": [
  {
   "cell_type": "markdown",
   "id": "afaccd4a",
   "metadata": {},
   "source": [
    "# 使用`class`定义类\n",
    "## 1. `super()`"
   ]
  },
  {
   "cell_type": "code",
   "execution_count": 3,
   "id": "9e6bdb72",
   "metadata": {},
   "outputs": [
    {
     "name": "stdout",
     "output_type": "stream",
     "text": [
      "Bob Frapples's email isbob@frapples.com\n",
      "<__main__.EmailPerson object at 0x7f80405713a0>\n"
     ]
    }
   ],
   "source": [
    "from pprint import pprint\n",
    "\n",
    "class Person():\n",
    "    def __init__(self, name):\n",
    "        self.name = name\n",
    "\n",
    "class EmailPerson(Person):\n",
    "    def __init__(self, name, email):\n",
    "        super().__init__(name)\n",
    "        self.email = email\n",
    "    def __str__(self):\n",
    "        return self.name + \"'s email is\" + self.email\n",
    "\n",
    "bob = EmailPerson('Bob Frapples', 'bob@frapples.com')\n",
    "print(bob)\n",
    "pprint(bob)"
   ]
  },
  {
   "cell_type": "markdown",
   "id": "7ae7cffb",
   "metadata": {},
   "source": [
    "# 2. 使用属性对特性进行访问和设置\n",
    "\n",
    "## 2.1 `property()` 定义特性"
   ]
  },
  {
   "cell_type": "code",
   "execution_count": 7,
   "id": "fbcc1e65",
   "metadata": {},
   "outputs": [
    {
     "name": "stdout",
     "output_type": "stream",
     "text": [
      "inside the getter\n",
      "Howard\n",
      "inside the setter\n",
      "inside the getter\n",
      "Daffy\n"
     ]
    }
   ],
   "source": [
    "class Duck():\n",
    "    def __init__(self, input_name):\n",
    "        self.hidden_name = input_name\n",
    "    def get_name(self):\n",
    "        print(\"inside the getter\")\n",
    "        return self.hidden_name\n",
    "    def set_name(self, input_name):\n",
    "        print(\"inside the setter\")\n",
    "        self.hidden_name = input_name\n",
    "    name = property(get_name, set_name)\n",
    "    \n",
    "fowl = Duck('Howard')\n",
    "print(fowl.name)\n",
    "\n",
    "fowl.name = 'Daffy'\n",
    "print(fowl.name)"
   ]
  },
  {
   "cell_type": "markdown",
   "id": "3a7ad0ad",
   "metadata": {},
   "source": [
    "## 2.2 使用 decorator 定义属性\n",
    "\n",
    "`@property`， 用于指示 `getter` 方法\n",
    "\n",
    "`@name.setter`， 用于指示 `setter`方法"
   ]
  },
  {
   "cell_type": "code",
   "execution_count": 8,
   "id": "faa4deef",
   "metadata": {},
   "outputs": [
    {
     "name": "stdout",
     "output_type": "stream",
     "text": [
      "inside the getter\n",
      "Howard\n",
      "inside the setter\n",
      "inside the getter\n",
      "Daffy\n"
     ]
    },
    {
     "data": {
      "text/plain": [
       "'Daffy'"
      ]
     },
     "execution_count": 8,
     "metadata": {},
     "output_type": "execute_result"
    }
   ],
   "source": [
    "class Duck():\n",
    "    def __init__(self, input_name):\n",
    "        self.hidden_name = input_name\n",
    "    @property\n",
    "    def name(self):\n",
    "        print(\"inside the getter\")\n",
    "        return self.hidden_name\n",
    "    @name.setter\n",
    "    def name(self, input_name):\n",
    "        print(\"inside the setter\")\n",
    "        self.hidden_name = input_name\n",
    "    \n",
    "fowl = Duck('Howard')\n",
    "print(fowl.name)\n",
    "\n",
    "fowl.name = 'Daffy'\n",
    "print(fowl.name)\n",
    "\n",
    "fowl.hidden_name"
   ]
  },
  {
   "cell_type": "markdown",
   "id": "091e8c1a",
   "metadata": {},
   "source": [
    "## 2.3 使用名称重整保护私有特性\n",
    "\n",
    "如上的类定义中，仍可以通过`fowl.hidden_name`来访问`name`属性，并不能很好地隐藏内部特性，可以通过特定的规范，把`hidden_name`改为`__name`来实现这一点。"
   ]
  },
  {
   "cell_type": "code",
   "execution_count": 9,
   "id": "70de0fee",
   "metadata": {},
   "outputs": [
    {
     "name": "stdout",
     "output_type": "stream",
     "text": [
      "inside the getter\n",
      "Howard\n",
      "inside the setter\n",
      "inside the getter\n",
      "Daffy\n"
     ]
    },
    {
     "ename": "AttributeError",
     "evalue": "'Duck' object has no attribute '__name'",
     "output_type": "error",
     "traceback": [
      "\u001b[0;31m---------------------------------------------------------------------------\u001b[0m",
      "\u001b[0;31mAttributeError\u001b[0m                            Traceback (most recent call last)",
      "\u001b[0;32m<ipython-input-9-02a2fc3b5a8c>\u001b[0m in \u001b[0;36m<module>\u001b[0;34m\u001b[0m\n\u001b[1;32m     17\u001b[0m \u001b[0mprint\u001b[0m\u001b[0;34m(\u001b[0m\u001b[0mfowl\u001b[0m\u001b[0;34m.\u001b[0m\u001b[0mname\u001b[0m\u001b[0;34m)\u001b[0m\u001b[0;34m\u001b[0m\u001b[0;34m\u001b[0m\u001b[0m\n\u001b[1;32m     18\u001b[0m \u001b[0;34m\u001b[0m\u001b[0m\n\u001b[0;32m---> 19\u001b[0;31m \u001b[0mfowl\u001b[0m\u001b[0;34m.\u001b[0m\u001b[0m__name\u001b[0m\u001b[0;34m\u001b[0m\u001b[0;34m\u001b[0m\u001b[0m\n\u001b[0m",
      "\u001b[0;31mAttributeError\u001b[0m: 'Duck' object has no attribute '__name'"
     ]
    }
   ],
   "source": [
    "class Duck():\n",
    "    def __init__(self, input_name):\n",
    "        self.__name = input_name\n",
    "    @property\n",
    "    def name(self):\n",
    "        print(\"inside the getter\")\n",
    "        return self.__name\n",
    "    @name.setter\n",
    "    def name(self, input_name):\n",
    "        print(\"inside the setter\")\n",
    "        self.__name = input_name\n",
    "    \n",
    "fowl = Duck('Howard')\n",
    "print(fowl.name)\n",
    "\n",
    "fowl.name = 'Daffy'\n",
    "print(fowl.name)\n",
    "\n",
    "fowl.__name"
   ]
  },
  {
   "cell_type": "markdown",
   "id": "8a98ec5f",
   "metadata": {},
   "source": [
    "# 3. 方法的类型\n",
    "\n",
    "## 3.1 实例方法 (instance method)\n",
    "\n",
    "Python 会把调用方法的对象作为`self`参数传入\n",
    "\n",
    "## 3.2 类方法 (class method)\n",
    "\n",
    "类方法会作用于整个类，对类作出的任何改变会对它的所有实例对象产生影响，类方法的第一个参数为类本身，一般记作`cls`。一般用 @classmethod指定。例如："
   ]
  },
  {
   "cell_type": "code",
   "execution_count": 1,
   "id": "a9fa6f4c",
   "metadata": {},
   "outputs": [
    {
     "name": "stdout",
     "output_type": "stream",
     "text": [
      "A has 3 little objects.\n"
     ]
    }
   ],
   "source": [
    "class A():\n",
    "    count = 0\n",
    "    def __init__(self):\n",
    "        A.count +=1\n",
    "    def exclaim(self):\n",
    "        print(\"I'm a A!\")\n",
    "    @classmethod\n",
    "    def kids(cls):\n",
    "        print(\"A has\", cls.count, \"little objects.\")\n",
    "\n",
    "easy_A = A()\n",
    "breezy_A = A()\n",
    "wheezy_A = A()\n",
    "\n",
    "A.kids()"
   ]
  },
  {
   "cell_type": "markdown",
   "id": "86730fae",
   "metadata": {},
   "source": [
    "## 3.3 静态方法\n",
    "\n",
    "不影响类和实例的方法，仅为了方便出现在类的定义中，称为静态方法(static method)，用 `@staticmethod`修饰。\n",
    "\n",
    "# 4. Duck typing"
   ]
  },
  {
   "cell_type": "code",
   "execution_count": 2,
   "id": "f8550d52",
   "metadata": {},
   "outputs": [
    {
     "name": "stdout",
     "output_type": "stream",
     "text": [
      "Elmer Fudd says I'm hunting wabbits.\n",
      "Brook says Babble\n"
     ]
    }
   ],
   "source": [
    "class Quote():\n",
    "    def __init__(self, person, words):\n",
    "        self.person = person\n",
    "        self.words = words\n",
    "    def who(self):\n",
    "        return self.person\n",
    "    def says(self):\n",
    "        return self.words + '.'\n",
    "\n",
    "class BabblingBrook():\n",
    "    def who(self):\n",
    "        return 'Brook'\n",
    "    def says(self):\n",
    "        return 'Babble'\n",
    "\n",
    "def who_says(obj):\n",
    "    print(obj.who(), 'says', obj.says())\n",
    "\n",
    "hunter = Quote('Elmer Fudd',  \"I'm hunting wabbits\")\n",
    "brook = BabblingBrook()\n",
    "\n",
    "who_says(hunter)\n",
    "who_says(brook)"
   ]
  },
  {
   "cell_type": "markdown",
   "id": "e79603ec",
   "metadata": {},
   "source": [
    "# 5. 特殊方法\n",
    "\n",
    "## 5.1 和比较相关的魔术方法\n",
    "```python\n",
    "__eq()__(self, other)    self == other\n",
    "__ne()__(self, other)    self != other\n",
    "__lt()__(self, other)    self  < other\n",
    "__gt()__(self, other)    self  > other\n",
    "__le()__(self, other)    self <= other\n",
    "__ge()__(self, other)    self >= other\n",
    "\n",
    "```\n",
    "## 5.2 和数学相关的魔术方法\n",
    "```python\n",
    "__add()__(self, other)         self  + other\n",
    "__sub()__(self, other)         self  - other\n",
    "__mul()__(self, other)         self  * other\n",
    "__floordiv()__(self, other)    self // other\n",
    "__truediv()__(self, other)     self  / other\n",
    "__mod()__(self, other)         self  % other\n",
    "__pow()__(self, other)         self ** other\n",
    "\n",
    "```\n",
    "\n",
    "## 5.3 其他种类的魔术方法\n",
    "```python\n",
    "__str__(self)     str(self)\n",
    "__repr__(self)    repr(self)\n",
    "__len__(self)     len(self)\n",
    "```\n",
    "\n",
    "# 6. 命名元组"
   ]
  }
 ],
 "metadata": {
  "kernelspec": {
   "display_name": "Python 3",
   "language": "python",
   "name": "python3"
  },
  "language_info": {
   "codemirror_mode": {
    "name": "ipython",
    "version": 3
   },
   "file_extension": ".py",
   "mimetype": "text/x-python",
   "name": "python",
   "nbconvert_exporter": "python",
   "pygments_lexer": "ipython3",
   "version": "3.8.8"
  }
 },
 "nbformat": 4,
 "nbformat_minor": 5
}
