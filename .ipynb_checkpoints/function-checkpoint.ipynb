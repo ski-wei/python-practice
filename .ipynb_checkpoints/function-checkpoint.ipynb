{
 "cells": [
  {
   "cell_type": "markdown",
   "id": "ccf7b6c1",
   "metadata": {},
   "source": [
    "# function 参数"
   ]
  },
  {
   "cell_type": "markdown",
   "id": "18abf8e3",
   "metadata": {},
   "source": [
    "## 1.位置参数"
   ]
  },
  {
   "cell_type": "code",
   "execution_count": 1,
   "id": "1a2660d2",
   "metadata": {},
   "outputs": [
    {
     "data": {
      "text/plain": [
       "{'1': 6, '2': 8, '3': 7}"
      ]
     },
     "execution_count": 1,
     "metadata": {},
     "output_type": "execute_result"
    }
   ],
   "source": [
    "def menu(a,b,c):\n",
    "    return {'1': a, '2': b, '3': c}\n",
    "\n",
    "menu(6,8,7)"
   ]
  },
  {
   "cell_type": "markdown",
   "id": "153ea246",
   "metadata": {},
   "source": [
    "## 2.关键字参数\n",
    "位置参数和C语言相同， 总是按位置传递对应参数，为了避免这种方式可能造成的混乱，调用参数时可以指定参数的名字，如下："
   ]
  },
  {
   "cell_type": "code",
   "execution_count": 2,
   "id": "4a1a7fbe",
   "metadata": {},
   "outputs": [
    {
     "data": {
      "text/plain": [
       "{'1': '1', '2': '2', '3': '3'}"
      ]
     },
     "execution_count": 2,
     "metadata": {},
     "output_type": "execute_result"
    }
   ],
   "source": [
    "menu(a='1', c = '3', b = '2')"
   ]
  },
  {
   "cell_type": "markdown",
   "id": "8fca4b60",
   "metadata": {},
   "source": [
    "## 3. 使用 * 收集位置参数 / 使用 ** 收集关键字参数"
   ]
  },
  {
   "cell_type": "code",
   "execution_count": 15,
   "id": "3f95ea57",
   "metadata": {},
   "outputs": [
    {
     "name": "stdout",
     "output_type": "stream",
     "text": [
      "x= 1 , y= 2\n",
      "All the rest: ('a', 'b', 'c')\n",
      "Help on function print_args in module __main__:\n",
      "\n",
      "print_args(x, y, *args)\n",
      "    print rest position argument\n",
      "\n"
     ]
    }
   ],
   "source": [
    "def print_args(x, y, *args):\n",
    "    '''\n",
    "    print rest position argument\n",
    "    '''\n",
    "    print('x=', x, ', y=', y)\n",
    "    print('All the rest:', args)\n",
    "\n",
    "print_args(1,2,'a','b','c')\n",
    "\n",
    "help(print_args)"
   ]
  },
  {
   "cell_type": "code",
   "execution_count": 14,
   "id": "9918d7f6",
   "metadata": {},
   "outputs": [
    {
     "name": "stdout",
     "output_type": "stream",
     "text": [
      "keyword: {'z': 'c', 'l': 'd', 'm': 'e'}\n"
     ]
    }
   ],
   "source": [
    "def print_kwargs(x, y, **kwargs):\n",
    "    '''\n",
    "    print rest keyword argument\n",
    "    '''\n",
    "    print('keyword:', kwargs)\n",
    "    \n",
    "print_kwargs(x= 'a', y ='b', z = 'c', l = 'd', m = 'e')"
   ]
  },
  {
   "cell_type": "markdown",
   "id": "9d8f6b71",
   "metadata": {},
   "source": [
    "## 4. 内部函数"
   ]
  },
  {
   "cell_type": "code",
   "execution_count": 16,
   "id": "3c478101",
   "metadata": {},
   "outputs": [
    {
     "data": {
      "text/plain": [
       "\"We are the knights who say: 'Hi!'\""
      ]
     },
     "execution_count": 16,
     "metadata": {},
     "output_type": "execute_result"
    }
   ],
   "source": [
    "def knights(saying):\n",
    "    def inner(quote):\n",
    "        return \"We are the knights who say: '%s'\" %quote\n",
    "    return inner(saying)\n",
    "\n",
    "knights('Hi!')"
   ]
  },
  {
   "cell_type": "markdown",
   "id": "a9678155",
   "metadata": {},
   "source": [
    "## 5. 闭包"
   ]
  },
  {
   "cell_type": "code",
   "execution_count": 17,
   "id": "0a6e2153",
   "metadata": {},
   "outputs": [
    {
     "data": {
      "text/plain": [
       "\"We are the knights who say: 'Hasenpfeffer'\""
      ]
     },
     "execution_count": 17,
     "metadata": {},
     "output_type": "execute_result"
    }
   ],
   "source": [
    "def knights2(saying):\n",
    "    def inner2():\n",
    "        return \"We are the knights who say: '%s'\" %saying\n",
    "    return inner2\n",
    "\n",
    "a = knights2('Duck')\n",
    "b = knights2('Hasenpfeffer')\n",
    "\n",
    "a()\n",
    "b()"
   ]
  },
  {
   "cell_type": "markdown",
   "id": "0a3f9567",
   "metadata": {},
   "source": [
    "## 6. 装饰器"
   ]
  },
  {
   "cell_type": "code",
   "execution_count": 2,
   "id": "759351cb",
   "metadata": {},
   "outputs": [
    {
     "name": "stdout",
     "output_type": "stream",
     "text": [
      "Running function: add_ints\n",
      "Positional arguments: (3,)\n",
      "Keyword arguments: {'b': 5}\n",
      "Result: 8\n"
     ]
    },
    {
     "data": {
      "text/plain": [
       "8"
      ]
     },
     "execution_count": 2,
     "metadata": {},
     "output_type": "execute_result"
    }
   ],
   "source": [
    "def document_it(func):\n",
    "    def new_function(*args, **kwargs):\n",
    "        print('Running function:', func.__name__)\n",
    "        print('Positional arguments:', args)\n",
    "        print('Keyword arguments:', kwargs)\n",
    "        result = func(*args, **kwargs)\n",
    "        print('Result:', result)\n",
    "        return result\n",
    "    return new_function\n",
    "\n",
    "@document_it\n",
    "def add_ints(a, b):\n",
    "    return a + b\n",
    "\n",
    "add_ints(3,b=5)"
   ]
  },
  {
   "cell_type": "markdown",
   "id": "d97734e0",
   "metadata": {},
   "source": [
    "当函数前有多个装饰器时，最靠近的装饰器最先执行，然后依次向上执行到结束。"
   ]
  }
 ],
 "metadata": {
  "kernelspec": {
   "display_name": "Python 3",
   "language": "python",
   "name": "python3"
  },
  "language_info": {
   "codemirror_mode": {
    "name": "ipython",
    "version": 3
   },
   "file_extension": ".py",
   "mimetype": "text/x-python",
   "name": "python",
   "nbconvert_exporter": "python",
   "pygments_lexer": "ipython3",
   "version": "3.8.8"
  }
 },
 "nbformat": 4,
 "nbformat_minor": 5
}
