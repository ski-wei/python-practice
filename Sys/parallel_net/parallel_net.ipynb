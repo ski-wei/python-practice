{
 "cells": [
  {
   "cell_type": "markdown",
   "metadata": {},
   "source": [
    "# 并发和网络\n",
    "## 并发\n",
    "### 进程\n",
    "模拟一个洗盘子的人和多个烘干进程。"
   ]
  },
  {
   "cell_type": "code",
   "execution_count": 1,
   "metadata": {},
   "outputs": [
    {
     "name": "stdout",
     "output_type": "stream",
     "text": [
      "Drying salad dish\n",
      "Drying bread dish\n",
      "Drying entree dish\n",
      "Drying dessert dish\n",
      "Washing salad dish...\n",
      "Washing bread dish...\n",
      "Washing entree dish...\n",
      "Washing dessert dish...\n"
     ]
    }
   ],
   "source": [
    "import multiprocessing as mp\n",
    "\n",
    "def washer(dishes, output):\n",
    "    for dish in dishes:\n",
    "        print('Washing', dish, 'dish...')\n",
    "        output.put(dish)\n",
    "\n",
    "def dryer(input):\n",
    "    while True:\n",
    "        dish = input.get()\n",
    "        print('Drying', dish, 'dish')\n",
    "        input.task_done()\n",
    "\n",
    "dish_queue = mp.JoinableQueue()\n",
    "dryer_proc = mp.Process(target=dryer, args=(dish_queue,))\n",
    "dryer_proc.daemon = True\n",
    "dryer_proc.start()\n",
    "\n",
    "dishes = ['salad', 'bread', 'entree', 'dessert']\n",
    "washer(dishes, dish_queue)\n",
    "dish_queue.join()"
   ]
  },
  {
   "cell_type": "code",
   "execution_count": null,
   "metadata": {},
   "outputs": [],
   "source": []
  }
 ],
 "metadata": {
  "interpreter": {
   "hash": "b3be99effef37477db9792eb569a588a6d99b5280d316805999bb1c19fc5988e"
  },
  "kernelspec": {
   "display_name": "Python 3.8.8 ('base')",
   "language": "python",
   "name": "python3"
  },
  "language_info": {
   "codemirror_mode": {
    "name": "ipython",
    "version": 3
   },
   "file_extension": ".py",
   "mimetype": "text/x-python",
   "name": "python",
   "nbconvert_exporter": "python",
   "pygments_lexer": "ipython3",
   "version": "3.8.8"
  },
  "orig_nbformat": 4
 },
 "nbformat": 4,
 "nbformat_minor": 2
}
