{
 "cells": [
  {
   "cell_type": "markdown",
   "metadata": {},
   "source": [
    "# 系统\n",
    "## 文件\n",
    "\n",
    "* `open()`创建文件\n",
    "* `exists()`检查文件是否存在\n",
    "* `isfile()`检查是否为文件\n",
    "* `copy()`复制文件\n",
    "* `rename()`重命名文件\n",
    "* `link()/ symlink()`创建链接\n",
    "* `chmod()/chown()`修改权限/所有者\n",
    "* `abspath()/realpath()`获取路径名/链接的实际路径名\n",
    "* `remove()`删除文件"
   ]
  },
  {
   "cell_type": "code",
   "execution_count": 1,
   "metadata": {},
   "outputs": [
    {
     "name": "stdout",
     "output_type": "stream",
     "text": [
      "/home/weiqian/python-practice/Sys/oops.txt\n",
      "False\n"
     ]
    }
   ],
   "source": [
    "import os\n",
    "name = 'oops.txt'\n",
    "with open(name, 'wt') as fout:\n",
    "    print('Oops, I created a file.', file=fout)\n",
    "os.path.exists(name)\n",
    "os.path.isfile(name)\n",
    "\n",
    "import shutil\n",
    "shutil.copy(name, 'ohno.txt')\n",
    "os.rename('ohno.txt', 'ohwell.txt')\n",
    "\n",
    "print(os.path.abspath(name))\n",
    "os.remove(name)\n",
    "print(os.path.exists(name))"
   ]
  },
  {
   "cell_type": "markdown",
   "metadata": {},
   "source": [
    "## 目录\n",
    "* `mkdir()`创建目录\n",
    "* `rmdir()`删除目录\n",
    "* `listdir()` 列出目录内容\n",
    "* `chdir()`跳转目录\n",
    "* `glob()` 列出匹配文件"
   ]
  },
  {
   "cell_type": "code",
   "execution_count": 2,
   "metadata": {},
   "outputs": [
    {
     "name": "stdout",
     "output_type": "stream",
     "text": [
      "/home/weiqian/python-practice/Sys\n",
      "Is newdir exist? True\n",
      "Is newdir exist? False\n",
      "In /home/weiqian/python-practice/Sys, there are ['ohwell.txt', 'sys.ipynb']\n",
      "In /home/weiqian/python-practice/Sys 's parent dir, there are ['class.ipynb', 'datainfiles.ipynb', 'Unicode_string.ipynb', 'pypackage.ipynb', 'function.ipynb', 'iter&Derivative.ipynb'] ,totally 6 jupyter notebooks\n"
     ]
    }
   ],
   "source": [
    "dir = os.getcwd()\n",
    "print(dir)\n",
    "os.chdir(dir)\n",
    "newdir = 'poems'\n",
    "os.mkdir(newdir)\n",
    "print('Is newdir exist?', os.path.exists(newdir))\n",
    "os.rmdir(newdir)\n",
    "print('Is newdir exist?', os.path.exists(newdir))\n",
    "print( 'In %s, there are' % dir,os.listdir(dir))\n",
    "parent_dir = os.chdir('..')\n",
    "\n",
    "import glob\n",
    "jnb = glob.glob('*.ipynb')\n",
    "print( \"In %s 's parent dir, there are\" % dir, jnb, ',totally %d jupyter notebooks' % len(jnb))"
   ]
  },
  {
   "cell_type": "markdown",
   "metadata": {},
   "source": [
    "## 时间和日期\n",
    "`datetime` 模块包含：\n",
    "* `date` 年月日\n",
    "* `time` 时、分、秒、微秒\n",
    "* `datetime` 日期和时间同时出现\n",
    "* `timedelta` 日期或时间间隔"
   ]
  },
  {
   "cell_type": "code",
   "execution_count": 8,
   "metadata": {},
   "outputs": [
    {
     "name": "stdout",
     "output_type": "stream",
     "text": [
      "now is  2022-03-21\n",
      "tomorrow is  2022-03-22\n",
      "now_time is  Mon Mar 21 16:18:11 2022\n"
     ]
    }
   ],
   "source": [
    "from datetime import date, timedelta, time\n",
    "import time as t\n",
    "now = date.today()\n",
    "print('now is ', now.isoformat())\n",
    "\n",
    "one_day = timedelta(days=1)\n",
    "tomorrow = now + one_day\n",
    "print('tomorrow is ', tomorrow.isoformat())\n",
    "\n",
    "now_time = t.time()\n",
    "print('now_time is ', t.ctime(now_time))"
   ]
  }
 ],
 "metadata": {
  "interpreter": {
   "hash": "b3be99effef37477db9792eb569a588a6d99b5280d316805999bb1c19fc5988e"
  },
  "kernelspec": {
   "display_name": "Python 3.8.8 ('base')",
   "language": "python",
   "name": "python3"
  },
  "language_info": {
   "codemirror_mode": {
    "name": "ipython",
    "version": 3
   },
   "file_extension": ".py",
   "mimetype": "text/x-python",
   "name": "python",
   "nbconvert_exporter": "python",
   "pygments_lexer": "ipython3",
   "version": "3.8.8"
  },
  "orig_nbformat": 4
 },
 "nbformat": 4,
 "nbformat_minor": 2
}
