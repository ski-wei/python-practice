{
 "cells": [
  {
   "cell_type": "markdown",
   "id": "9aeb0807",
   "metadata": {},
   "source": [
    "# 解析Web\n",
    "\n",
    "## Web客户端\n",
    "\n",
    "### Bottle\n",
    "\n",
    "`Bottle`只包含一个简单的`Python`文件，所以非常易于使用并且易于部署。运行如下的`./Web/bottle1.py`会运行一个测试用`python`服务器，如果在浏览器中访问`http://localhost:9999/`，服务器会返回一行文本。"
   ]
  },
  {
   "cell_type": "code",
   "execution_count": 1,
   "id": "e8433416",
   "metadata": {
    "ExecuteTime": {
     "end_time": "2022-03-14T14:11:17.659841Z",
     "start_time": "2022-03-14T14:11:17.654897Z"
    }
   },
   "outputs": [
    {
     "name": "stderr",
     "output_type": "stream",
     "text": [
      "Bottle v0.12.19 server starting up (using WSGIRefServer())...\n",
      "Listening on http://localhost:9999/\n",
      "Hit Ctrl-C to quit.\n",
      "\n",
      "127.0.0.1 - - [21/Mar/2022 12:41:47] \"GET / HTTP/1.1\" 200 37\n",
      "127.0.0.1 - - [21/Mar/2022 12:41:47] \"GET /favicon.ico HTTP/1.1\" 404 742\n"
     ]
    }
   ],
   "source": [
    "from bottle import route, run\n",
    "\n",
    "@route('/')\n",
    "def home():\n",
    "    return \"It isn't fancy, but it's my home page\"\n",
    "\n",
    "run(host='localhost', port=9999)"
   ]
  },
  {
   "cell_type": "markdown",
   "id": "4964c4fc",
   "metadata": {},
   "source": [
    "还可以创建一个单独的`HTML`文件作为网页内容。例 `./Web/bottle2.py`"
   ]
  },
  {
   "cell_type": "code",
   "execution_count": 1,
   "id": "cf74ebd2",
   "metadata": {},
   "outputs": [
    {
     "name": "stderr",
     "output_type": "stream",
     "text": [
      "Bottle v0.12.19 server starting up (using WSGIRefServer())...\n",
      "Listening on http://localhost:9999/\n",
      "Hit Ctrl-C to quit.\n",
      "\n",
      "127.0.0.1 - - [21/Mar/2022 13:34:45] \"GET / HTTP/1.1\" 404 716\n",
      "127.0.0.1 - - [21/Mar/2022 13:35:23] \"GET / HTTP/1.1\" 404 716\n"
     ]
    }
   ],
   "source": [
    "from bottle import route, run,static_file\n",
    "\n",
    "@route('/')\n",
    "def main():\n",
    "    return static_file('index.html', root='.')\n",
    "\n",
    "run(host='localhost', port=9999)"
   ]
  },
  {
   "cell_type": "markdown",
   "id": "2ff901df",
   "metadata": {},
   "source": [
    "指定`URL`的参数并使用它们。例 `./Web/bottle3.py`"
   ]
  },
  {
   "cell_type": "code",
   "execution_count": null,
   "id": "bf07f859",
   "metadata": {},
   "outputs": [],
   "source": [
    "from bottle import route, run,static_file\n",
    "\n",
    "@route('/')\n",
    "def home():\n",
    "    return static_file('index.html', root='.')\n",
    "@route('/echo/<thing>')\n",
    "def echo(thing):\n",
    "    return \"Say hello to my little friend: %s!\"% thing\n",
    "\n",
    "run(host='localhost', port=9999)"
   ]
  },
  {
   "cell_type": "markdown",
   "id": "ca0fcb6c",
   "metadata": {},
   "source": [
    "利用客户端库`requsets`来测试服务器的正常运行。例: `./Web/bottle_test.py`"
   ]
  },
  {
   "cell_type": "code",
   "execution_count": null,
   "id": "ee9f7635",
   "metadata": {},
   "outputs": [],
   "source": [
    "import requests\n",
    "\n",
    "resp = requests.get('http://localhost:9999/echo/Mothra')\n",
    "if resp.status_code == 200 and \\\n",
    "    resp.text == 'Say hello to my little friend: Mothra!':\n",
    "    print('It worked!')\n",
    "else:\n",
    "    print('No, got this:', resp.text)"
   ]
  },
  {
   "cell_type": "markdown",
   "id": "5cc3f20a",
   "metadata": {},
   "source": [
    "### Flask\n",
    "使用 `Flask`重写`bottle`的例子。"
   ]
  },
  {
   "cell_type": "code",
   "execution_count": null,
   "id": "a69a08dc",
   "metadata": {},
   "outputs": [],
   "source": [
    "from flask import Flask\n",
    "\n",
    "app = Flask(__name__, static_folder='.', static_url_path='')\n",
    "\n",
    "@app.route('/')\n",
    "def home():\n",
    "    return app.send_static_file('index.html')\n",
    "\n",
    "@app.route('/echo/<thing>')\n",
    "def echo(thing):\n",
    "    return \"Say hello to my little friend: %s\" % thing\n",
    "\n",
    "app.run(port=9999, debug=True)"
   ]
  },
  {
   "cell_type": "markdown",
   "id": "c39549f8",
   "metadata": {},
   "source": [
    "使用`Flask`内置的`jinja2`，并通过`URL`路径传入参数。"
   ]
  },
  {
   "cell_type": "code",
   "execution_count": null,
   "id": "8e083efd",
   "metadata": {},
   "outputs": [],
   "source": [
    "from flask import Flask, render_template, request\n",
    "\n",
    "app = Flask(__name__)\n",
    "\n",
    "@app.route('/')\n",
    "def home():\n",
    "    return app.send_static_file('index.html')\n",
    "\n",
    "@app.route('/echo/')\n",
    "def echo():\n",
    "    thing = request.args.get('thing')\n",
    "    place = request.args.get('place')\n",
    "    return render_template('flask2.html', thing=thing, place=place)\n",
    "\n",
    "app.run(port=9999, debug=True)"
   ]
  },
  {
   "cell_type": "markdown",
   "id": "019259fc",
   "metadata": {},
   "source": [
    "## 抓取数据\n",
    "### Scrapy \n",
    "\n",
    "如果你需要一个企业级爬虫， 强烈推荐使用 `Scrapy`(`http://scrapy.org/`)，它是一个框架，而不是单纯的模块。\n",
    "### 用`BeautifulSoup`来抓取`HTML`\n",
    "\n",
    "下例展示了使用`BeautifulSoup`来获取一个网页上的所有链接。`HTML`的`a`元素表示一个链接，`href`属性表示链接的目标地址。"
   ]
  },
  {
   "cell_type": "code",
   "execution_count": null,
   "id": "d88f4451",
   "metadata": {},
   "outputs": [],
   "source": [
    "def get_links(url):\n",
    "    import requests\n",
    "    from bs4 import BeautifulSoup as soup\n",
    "    result = requests.get(url)\n",
    "    page = result.text\n",
    "    doc = soup(page)\n",
    "    links = [element.get('href') for element in doc.find_all('a')]\n",
    "    return links\n",
    "\n",
    "if __name__ == '__main__':\n",
    "    import sys\n",
    "    for url in sys.argv[1:]:\n",
    "        print('Links in', url)\n",
    "        for num, link in enumerate(get_links(url), start=1):\n",
    "            print(num, link)\n",
    "        print()"
   ]
  }
 ],
 "metadata": {
  "kernelspec": {
   "display_name": "Python 3",
   "language": "python",
   "name": "python3"
  },
  "language_info": {
   "codemirror_mode": {
    "name": "ipython",
    "version": 3
   },
   "file_extension": ".py",
   "mimetype": "text/x-python",
   "name": "python",
   "nbconvert_exporter": "python",
   "pygments_lexer": "ipython3",
   "version": "3.8.8"
  },
  "toc": {
   "base_numbering": 1,
   "nav_menu": {},
   "number_sections": true,
   "sideBar": true,
   "skip_h1_title": false,
   "title_cell": "Table of Contents",
   "title_sidebar": "Contents",
   "toc_cell": false,
   "toc_position": {},
   "toc_section_display": true,
   "toc_window_display": false
  }
 },
 "nbformat": 4,
 "nbformat_minor": 5
}
