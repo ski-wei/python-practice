{
 "cells": [
  {
   "cell_type": "markdown",
   "id": "9aeb0807",
   "metadata": {},
   "source": [
    "# 解析Web\n",
    "\n",
    "## Web客户端\n",
    "\n",
    "### Bottle"
   ]
  },
  {
   "cell_type": "code",
   "execution_count": 1,
   "id": "e8433416",
   "metadata": {
    "ExecuteTime": {
     "end_time": "2022-03-14T14:11:17.659841Z",
     "start_time": "2022-03-14T14:11:17.654897Z"
    }
   },
   "outputs": [
    {
     "name": "stderr",
     "output_type": "stream",
     "text": [
      "Bottle v0.12.19 server starting up (using WSGIRefServer())...\n",
      "Listening on http://localhost:9999/\n",
      "Hit Ctrl-C to quit.\n",
      "\n",
      "127.0.0.1 - - [21/Mar/2022 12:41:47] \"GET / HTTP/1.1\" 200 37\n",
      "127.0.0.1 - - [21/Mar/2022 12:41:47] \"GET /favicon.ico HTTP/1.1\" 404 742\n"
     ]
    }
   ],
   "source": [
    "from bottle import route, run\n",
    "\n",
    "@route('/')\n",
    "def home():\n",
    "    return \"It isn't fancy, but it's my home page\"\n",
    "\n",
    "run(host='localhost', port=9999)"
   ]
  },
  {
   "cell_type": "code",
   "execution_count": null,
   "id": "cf74ebd2",
   "metadata": {},
   "outputs": [],
   "source": []
  }
 ],
 "metadata": {
  "kernelspec": {
   "display_name": "Python 3",
   "language": "python",
   "name": "python3"
  },
  "language_info": {
   "codemirror_mode": {
    "name": "ipython",
    "version": 3
   },
   "file_extension": ".py",
   "mimetype": "text/x-python",
   "name": "python",
   "nbconvert_exporter": "python",
   "pygments_lexer": "ipython3",
   "version": "3.6.13"
  },
  "toc": {
   "base_numbering": 1,
   "nav_menu": {},
   "number_sections": true,
   "sideBar": true,
   "skip_h1_title": false,
   "title_cell": "Table of Contents",
   "title_sidebar": "Contents",
   "toc_cell": false,
   "toc_position": {},
   "toc_section_display": true,
   "toc_window_display": false
  }
 },
 "nbformat": 4,
 "nbformat_minor": 5
}
