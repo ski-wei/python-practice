{
 "cells": [
  {
   "cell_type": "markdown",
   "id": "9aeb0807",
   "metadata": {},
   "source": [
    "# 解析Web\n",
    "\n",
    "## Web客户端"
   ]
  },
  {
   "cell_type": "code",
   "execution_count": 1,
   "id": "e8433416",
   "metadata": {
    "ExecuteTime": {
     "end_time": "2022-03-14T14:11:17.659841Z",
     "start_time": "2022-03-14T14:11:17.654897Z"
    }
   },
   "outputs": [
    {
     "ename": "SyntaxError",
     "evalue": "invalid syntax (<ipython-input-1-73fc9788bd95>, line 1)",
     "output_type": "error",
     "traceback": [
      "\u001b[0;36m  File \u001b[0;32m\"<ipython-input-1-73fc9788bd95>\"\u001b[0;36m, line \u001b[0;32m1\u001b[0m\n\u001b[0;31m    telnet www.baidu.com 80\u001b[0m\n\u001b[0m           ^\u001b[0m\n\u001b[0;31mSyntaxError\u001b[0m\u001b[0;31m:\u001b[0m invalid syntax\n"
     ]
    }
   ],
   "source": [
    "import urllib.request as ur"
   ]
  },
  {
   "cell_type": "code",
   "execution_count": null,
   "id": "cf74ebd2",
   "metadata": {},
   "outputs": [],
   "source": []
  }
 ],
 "metadata": {
  "kernelspec": {
   "display_name": "Python 3",
   "language": "python",
   "name": "python3"
  },
  "language_info": {
   "codemirror_mode": {
    "name": "ipython",
    "version": 3
   },
   "file_extension": ".py",
   "mimetype": "text/x-python",
   "name": "python",
   "nbconvert_exporter": "python",
   "pygments_lexer": "ipython3",
   "version": "3.8.8"
  },
  "toc": {
   "base_numbering": 1,
   "nav_menu": {},
   "number_sections": true,
   "sideBar": true,
   "skip_h1_title": false,
   "title_cell": "Table of Contents",
   "title_sidebar": "Contents",
   "toc_cell": false,
   "toc_position": {},
   "toc_section_display": true,
   "toc_window_display": false
  }
 },
 "nbformat": 4,
 "nbformat_minor": 5
}
