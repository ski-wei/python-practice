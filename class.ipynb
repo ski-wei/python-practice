{
 "cells": [
  {
   "cell_type": "markdown",
   "id": "afaccd4a",
   "metadata": {},
   "source": [
    "# 使用`class`定义类\n",
    "## 1. `super()`"
   ]
  },
  {
   "cell_type": "code",
   "execution_count": 2,
   "id": "9e6bdb72",
   "metadata": {},
   "outputs": [
    {
     "name": "stdout",
     "output_type": "stream",
     "text": [
      "<__main__.EmailPerson object at 0x7ffa644eae80>\n"
     ]
    }
   ],
   "source": [
    "from pprint import pprint\n",
    "\n",
    "class Person():\n",
    "    def __init__(self, name):\n",
    "        self.name = name\n",
    "\n",
    "class EmailPerson(Person):\n",
    "    def __init__(self, name, email):\n",
    "        super().__init__(name)\n",
    "        self.email = email\n",
    "\n",
    "bob = EmailPerson('Bob Frapples', 'bob@frapples.com')\n",
    "pprint(bob)"
   ]
  },
  {
   "cell_type": "markdown",
   "id": "7ae7cffb",
   "metadata": {},
   "source": [
    "# 2. 使用属性对特性进行访问和设置\n",
    "\n",
    "## 2.1 `property()` 定义特性"
   ]
  },
  {
   "cell_type": "code",
   "execution_count": 7,
   "id": "fbcc1e65",
   "metadata": {},
   "outputs": [
    {
     "name": "stdout",
     "output_type": "stream",
     "text": [
      "inside the getter\n",
      "Howard\n",
      "inside the setter\n",
      "inside the getter\n",
      "Daffy\n"
     ]
    }
   ],
   "source": [
    "class Duck():\n",
    "    def __init__(self, input_name):\n",
    "        self.hidden_name = input_name\n",
    "    def get_name(self):\n",
    "        print(\"inside the getter\")\n",
    "        return self.hidden_name\n",
    "    def set_name(self, input_name):\n",
    "        print(\"inside the setter\")\n",
    "        self.hidden_name = input_name\n",
    "    name = property(get_name, set_name)\n",
    "    \n",
    "fowl = Duck('Howard')\n",
    "print(fowl.name)\n",
    "\n",
    "fowl.name = 'Daffy'\n",
    "print(fowl.name)"
   ]
  },
  {
   "cell_type": "markdown",
   "id": "3a7ad0ad",
   "metadata": {},
   "source": [
    "## 2.2 使用 decorator 定义属性\n",
    "\n",
    "`@property`， 用于指示 `getter` 方法\n",
    "\n",
    "`@name.setter`， 用于指示 `setter`方法"
   ]
  },
  {
   "cell_type": "code",
   "execution_count": 8,
   "id": "faa4deef",
   "metadata": {},
   "outputs": [
    {
     "name": "stdout",
     "output_type": "stream",
     "text": [
      "inside the getter\n",
      "Howard\n",
      "inside the setter\n",
      "inside the getter\n",
      "Daffy\n"
     ]
    },
    {
     "data": {
      "text/plain": [
       "'Daffy'"
      ]
     },
     "execution_count": 8,
     "metadata": {},
     "output_type": "execute_result"
    }
   ],
   "source": [
    "class Duck():\n",
    "    def __init__(self, input_name):\n",
    "        self.hidden_name = input_name\n",
    "    @property\n",
    "    def name(self):\n",
    "        print(\"inside the getter\")\n",
    "        return self.hidden_name\n",
    "    @name.setter\n",
    "    def name(self, input_name):\n",
    "        print(\"inside the setter\")\n",
    "        self.hidden_name = input_name\n",
    "    \n",
    "fowl = Duck('Howard')\n",
    "print(fowl.name)\n",
    "\n",
    "fowl.name = 'Daffy'\n",
    "print(fowl.name)\n",
    "\n",
    "fowl.hidden_name"
   ]
  },
  {
   "cell_type": "markdown",
   "id": "091e8c1a",
   "metadata": {},
   "source": [
    "## 2.3 使用名称重整保护私有特性\n",
    "\n",
    "如上的类定义中，仍可以通过`fowl.hidden_name`来访问`name`属性，并不能很好地隐藏内部特性，可以通过特定的规范，把`hidden_name`改为`__name`来实现这一点。"
   ]
  },
  {
   "cell_type": "code",
   "execution_count": 9,
   "id": "70de0fee",
   "metadata": {},
   "outputs": [
    {
     "name": "stdout",
     "output_type": "stream",
     "text": [
      "inside the getter\n",
      "Howard\n",
      "inside the setter\n",
      "inside the getter\n",
      "Daffy\n"
     ]
    },
    {
     "ename": "AttributeError",
     "evalue": "'Duck' object has no attribute '__name'",
     "output_type": "error",
     "traceback": [
      "\u001b[0;31m---------------------------------------------------------------------------\u001b[0m",
      "\u001b[0;31mAttributeError\u001b[0m                            Traceback (most recent call last)",
      "\u001b[0;32m<ipython-input-9-02a2fc3b5a8c>\u001b[0m in \u001b[0;36m<module>\u001b[0;34m\u001b[0m\n\u001b[1;32m     17\u001b[0m \u001b[0mprint\u001b[0m\u001b[0;34m(\u001b[0m\u001b[0mfowl\u001b[0m\u001b[0;34m.\u001b[0m\u001b[0mname\u001b[0m\u001b[0;34m)\u001b[0m\u001b[0;34m\u001b[0m\u001b[0;34m\u001b[0m\u001b[0m\n\u001b[1;32m     18\u001b[0m \u001b[0;34m\u001b[0m\u001b[0m\n\u001b[0;32m---> 19\u001b[0;31m \u001b[0mfowl\u001b[0m\u001b[0;34m.\u001b[0m\u001b[0m__name\u001b[0m\u001b[0;34m\u001b[0m\u001b[0;34m\u001b[0m\u001b[0m\n\u001b[0m",
      "\u001b[0;31mAttributeError\u001b[0m: 'Duck' object has no attribute '__name'"
     ]
    }
   ],
   "source": [
    "class Duck():\n",
    "    def __init__(self, input_name):\n",
    "        self.__name = input_name\n",
    "    @property\n",
    "    def name(self):\n",
    "        print(\"inside the getter\")\n",
    "        return self.__name\n",
    "    @name.setter\n",
    "    def name(self, input_name):\n",
    "        print(\"inside the setter\")\n",
    "        self.__name = input_name\n",
    "    \n",
    "fowl = Duck('Howard')\n",
    "print(fowl.name)\n",
    "\n",
    "fowl.name = 'Daffy'\n",
    "print(fowl.name)\n",
    "\n",
    "fowl.__name"
   ]
  },
  {
   "cell_type": "markdown",
   "id": "8a98ec5f",
   "metadata": {},
   "source": [
    "# 3. 方法的类型"
   ]
  },
  {
   "cell_type": "code",
   "execution_count": null,
   "id": "a9fa6f4c",
   "metadata": {},
   "outputs": [],
   "source": []
  }
 ],
 "metadata": {
  "kernelspec": {
   "display_name": "Python 3",
   "language": "python",
   "name": "python3"
  },
  "language_info": {
   "codemirror_mode": {
    "name": "ipython",
    "version": 3
   },
   "file_extension": ".py",
   "mimetype": "text/x-python",
   "name": "python",
   "nbconvert_exporter": "python",
   "pygments_lexer": "ipython3",
   "version": "3.8.8"
  }
 },
 "nbformat": 4,
 "nbformat_minor": 5
}
