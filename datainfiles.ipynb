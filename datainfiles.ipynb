{
 "cells": [
  {
   "cell_type": "markdown",
   "id": "b65bbcdc",
   "metadata": {},
   "source": [
    "# 数据的归宿\n",
    "\n",
    "## 文件输入输出\n",
    "\n",
    "### 使用`write()`写文本文件\n",
    "\n",
    "以`poem`作为源数据："
   ]
  },
  {
   "cell_type": "code",
   "execution_count": 1,
   "id": "8708d339",
   "metadata": {
    "ExecuteTime": {
     "end_time": "2022-03-18T09:52:41.623617Z",
     "start_time": "2022-03-18T09:52:41.618878Z"
    }
   },
   "outputs": [],
   "source": [
    "poem = '''There was a young lady named Bright,\n",
    "Whose speed was far faster than light;\n",
    "She started one day\n",
    "In a relative way,\n",
    "And returned on the previous night.'''\n",
    "\n",
    "len(poem)\n",
    "fout = open('relativity', 'wt')\n",
    "fout.write(poem)\n",
    "fout.close()"
   ]
  },
  {
   "cell_type": "markdown",
   "id": "c915dbd0",
   "metadata": {},
   "source": [
    "向文件中写入数据，既可以用`write()`也可以用`print()`,使用`write()`时不会添加空格或换行符，而使用`print()`时，会默认在每个参数后添加空格，在每行结束处添加换行。可以用`sep`来指定分隔符，其默认为空格` `；可以用`end`来指定结束符，默认是换行`\\n`"
   ]
  },
  {
   "cell_type": "markdown",
   "id": "8011c92a",
   "metadata": {},
   "source": [
    "### 使用`read()/readline()`或者`readlines()`读文本文件"
   ]
  },
  {
   "cell_type": "code",
   "execution_count": 2,
   "id": "b2540104",
   "metadata": {
    "ExecuteTime": {
     "end_time": "2022-03-18T09:52:44.042804Z",
     "start_time": "2022-03-18T09:52:44.033413Z"
    }
   },
   "outputs": [
    {
     "data": {
      "text/plain": [
       "150"
      ]
     },
     "execution_count": 2,
     "metadata": {},
     "output_type": "execute_result"
    }
   ],
   "source": [
    "fin = open('relativity', 'rt')\n",
    "poem = fin.read()\n",
    "fin.close()\n",
    "len(poem)"
   ]
  },
  {
   "cell_type": "code",
   "execution_count": 3,
   "id": "690275c5",
   "metadata": {
    "ExecuteTime": {
     "end_time": "2022-03-18T09:54:26.566367Z",
     "start_time": "2022-03-18T09:54:26.562321Z"
    }
   },
   "outputs": [
    {
     "name": "stdout",
     "output_type": "stream",
     "text": [
      "150\n",
      "There was a young lady named Bright,\n",
      "Whose speed was far faster than light;\n",
      "She started one day\n",
      "In a relative way,\n",
      "And returned on the previous night.\n"
     ]
    }
   ],
   "source": [
    "poem = ''\n",
    "fin = open('relativity', 'rt')\n",
    "while True:\n",
    "    line = fin.readline()\n",
    "    if not line:\n",
    "        break\n",
    "    poem += line\n",
    "fin.close()\n",
    "print(len(poem))\n",
    "print(poem)"
   ]
  },
  {
   "cell_type": "code",
   "execution_count": 4,
   "id": "89749961",
   "metadata": {
    "ExecuteTime": {
     "end_time": "2022-03-18T09:56:16.452106Z",
     "start_time": "2022-03-18T09:56:16.447417Z"
    }
   },
   "outputs": [
    {
     "name": "stdout",
     "output_type": "stream",
     "text": [
      "5 lines read\n",
      "There was a young lady named Bright,\n",
      "Whose speed was far faster than light;\n",
      "She started one day\n",
      "In a relative way,\n",
      "And returned on the previous night."
     ]
    }
   ],
   "source": [
    "fin = open('relativity', 'rt')\n",
    "lines = fin.readlines()\n",
    "fin.close()\n",
    "print(len(lines), 'lines read')\n",
    "for line in lines:\n",
    "    print(line, end='')"
   ]
  },
  {
   "cell_type": "markdown",
   "id": "43b127b3",
   "metadata": {},
   "source": [
    "### 使用`with`自动关闭文件"
   ]
  },
  {
   "cell_type": "code",
   "execution_count": 5,
   "id": "7bf424e4",
   "metadata": {
    "ExecuteTime": {
     "end_time": "2022-03-18T10:01:46.931184Z",
     "start_time": "2022-03-18T10:01:46.927611Z"
    }
   },
   "outputs": [],
   "source": [
    "with open('relativity', 'wt') as fout:\n",
    "    fout.write(poem)"
   ]
  },
  {
   "cell_type": "markdown",
   "id": "5abc6de1",
   "metadata": {},
   "source": [
    "### 使用`seek()`改变游标的位置\n",
    "\n",
    "`seek()`返回当前的偏移量，调用`seek()`的形式为:`seek(offset,origin)`\n",
    "* 如果`origin`等于0（默认为0），从开头偏移`offset`个字节\n",
    "* 如果`origin`等于1，从当前位置处偏移`offset`个字节\n",
    "* 如果`origin`等于2，距离最后结尾处偏移`offset`个字节"
   ]
  },
  {
   "cell_type": "code",
   "execution_count": 6,
   "id": "3c0fa47a",
   "metadata": {
    "ExecuteTime": {
     "end_time": "2022-03-18T10:06:54.032112Z",
     "start_time": "2022-03-18T10:06:54.027760Z"
    }
   },
   "outputs": [
    {
     "name": "stdout",
     "output_type": "stream",
     "text": [
      "0\n",
      "255\n",
      "255\n"
     ]
    }
   ],
   "source": [
    "bdata = bytes(range(0,256))\n",
    "\n",
    "with open('bfile', 'wb') as fout:\n",
    "    fout.write(bdata)\n",
    "with open('bfile', 'rb') as fin:\n",
    "    print(fin.tell())\n",
    "    print(fin.seek(255))\n",
    "    \n",
    "    bdata = fin.read()\n",
    "    print(bdata[0])"
   ]
  },
  {
   "cell_type": "markdown",
   "id": "514b89ac",
   "metadata": {},
   "source": [
    "## 结构化的文本文件\n",
    "### CSV\n",
    "\n",
    "写`CSV`文件"
   ]
  },
  {
   "cell_type": "code",
   "execution_count": 7,
   "id": "7f5ccf17",
   "metadata": {
    "ExecuteTime": {
     "end_time": "2022-03-18T12:33:21.790967Z",
     "start_time": "2022-03-18T12:33:21.787521Z"
    }
   },
   "outputs": [],
   "source": [
    "import csv\n",
    "villains = [\n",
    "    ['Doctor', 'No'],\n",
    "    ['Rosa', 'Klebb'],\n",
    "    ['Mister', 'Big'],\n",
    "    ['Auric', 'Goldfinger'],\n",
    "    ['Ernst', 'Blofeld'],\n",
    "]\n",
    "with open('villains', 'wt') as fout:\n",
    "    csvout = csv.writer(fout)\n",
    "    csvout.writerows(villains)"
   ]
  },
  {
   "cell_type": "markdown",
   "id": "f81ce6a5",
   "metadata": {},
   "source": [
    "读`csv`文件"
   ]
  },
  {
   "cell_type": "code",
   "execution_count": 8,
   "id": "f92e42a8",
   "metadata": {
    "ExecuteTime": {
     "end_time": "2022-03-18T12:35:46.944530Z",
     "start_time": "2022-03-18T12:35:46.939320Z"
    }
   },
   "outputs": [
    {
     "name": "stdout",
     "output_type": "stream",
     "text": [
      "[['Doctor', 'No'], ['Rosa', 'Klebb'], ['Mister', 'Big'], ['Auric', 'Goldfinger'], ['Ernst', 'Blofeld']]\n"
     ]
    }
   ],
   "source": [
    "import csv\n",
    "with open('villains', 'rt') as fin:\n",
    "    cin = csv.reader(fin)\n",
    "    villains = [row for row in cin]\n",
    "print(villains)"
   ]
  },
  {
   "cell_type": "markdown",
   "id": "3c5d792a",
   "metadata": {},
   "source": [
    "### JSON\n",
    "\n",
    "`JSON`形式的数据结构："
   ]
  },
  {
   "cell_type": "code",
   "execution_count": 9,
   "id": "ab2ae662",
   "metadata": {},
   "outputs": [
    {
     "name": "stdout",
     "output_type": "stream",
     "text": [
      "{\"breakfast\": {\"hours\": \"7-11\", \"items\": {\"breakfast burritos\": \"$6.00\", \"pancakes\": \"$4.00\"}}, \"lunch\": {\"hours\": \"11-3\", \"items\": {\"hamburger\": \"$5.00\"}}, \"dinner\": {\"hours\": \"3-10\", \"items\": {\"spaghetti\": \"$8.00\"}}}\n"
     ]
    }
   ],
   "source": [
    "menu = \\\n",
    "{\n",
    "\"breakfast\":{\n",
    "        \"hours\": \"7-11\",\n",
    "        \"items\":{\n",
    "                \"breakfast burritos\": \"$6.00\",\n",
    "                \"pancakes\": \"$4.00\"\n",
    "                }\n",
    "        },\n",
    "\"lunch\": {\n",
    "        \"hours\": \"11-3\",\n",
    "        \"items\": {\n",
    "                \"hamburger\": \"$5.00\"\n",
    "                }\n",
    "        },\n",
    "\"dinner\":{\n",
    "        \"hours\": \"3-10\",\n",
    "        \"items\":{\n",
    "                \"spaghetti\": \"$8.00\"\n",
    "                }\n",
    "        }\n",
    "\n",
    "}\n",
    "\n",
    "import json\n",
    "menu_json = json.dumps(menu)\n",
    "print(menu_json)"
   ]
  },
  {
   "cell_type": "code",
   "execution_count": 10,
   "id": "68036061",
   "metadata": {},
   "outputs": [
    {
     "name": "stdout",
     "output_type": "stream",
     "text": [
      "{'breakfast': {'hours': '7-11', 'items': {'breakfast burritos': '$6.00', 'pancakes': '$4.00'}}, 'lunch': {'hours': '11-3', 'items': {'hamburger': '$5.00'}}, 'dinner': {'hours': '3-10', 'items': {'spaghetti': '$8.00'}}}\n"
     ]
    }
   ],
   "source": [
    "menu2 = json.loads(menu_json)\n",
    "print(menu2)"
   ]
  },
  {
   "cell_type": "code",
   "execution_count": 15,
   "id": "ee7c3c2d",
   "metadata": {},
   "outputs": [
    {
     "name": "stdout",
     "output_type": "stream",
     "text": [
      "<class 'dict'>\n",
      "{'hours': '7-11', 'items': {'breakfast burritos': '$6.00', 'pancakes': '$4.00'}}\n",
      "{'hours': '11-3', 'items': {'hamburger': '$5.00'}}\n",
      "{'hours': '3-10', 'items': {'spaghetti': '$8.00'}}\n"
     ]
    }
   ],
   "source": [
    "print(type(menu2))\n",
    "if isinstance(menu2,dict):\n",
    "    for key in menu2.keys():\n",
    "        print(menu2[key])"
   ]
  },
  {
   "cell_type": "markdown",
   "id": "8ab30f3b",
   "metadata": {},
   "source": [
    "### 使用`pickle`序列化\n",
    "存储数据结构到一个文件中也称为序列化(serializing). `Python`提供了`pickle`模块以特殊的二进制格式保存和恢复数据对象."
   ]
  },
  {
   "cell_type": "code",
   "execution_count": 16,
   "id": "48251d17",
   "metadata": {},
   "outputs": [
    {
     "name": "stdout",
     "output_type": "stream",
     "text": [
      "now1: 2022-03-18 13:26:41.486928\n",
      "pickled: b'\\x80\\x04\\x95*\\x00\\x00\\x00\\x00\\x00\\x00\\x00\\x8c\\x08datetime\\x94\\x8c\\x08datetime\\x94\\x93\\x94C\\n\\x07\\xe6\\x03\\x12\\r\\x1a)\\x07n\\x10\\x94\\x85\\x94R\\x94.'\n",
      "now2 2022-03-18 13:26:41.486928\n"
     ]
    }
   ],
   "source": [
    "import pickle\n",
    "import datetime\n",
    "now1 = datetime.datetime.utcnow()\n",
    "pickled = pickle.dumps(now1)\n",
    "now2 = pickle.loads(pickled)\n",
    "print('now1:', now1)\n",
    "print('pickled:', pickled)\n",
    "print('now2', now2)"
   ]
  },
  {
   "cell_type": "markdown",
   "id": "41a012a4",
   "metadata": {},
   "source": [
    "## 结构化二进制文件"
   ]
  },
  {
   "cell_type": "markdown",
   "id": "b7bab479",
   "metadata": {},
   "source": []
  }
 ],
 "metadata": {
  "kernelspec": {
   "display_name": "Python 3",
   "language": "python",
   "name": "python3"
  },
  "language_info": {
   "codemirror_mode": {
    "name": "ipython",
    "version": 3
   },
   "file_extension": ".py",
   "mimetype": "text/x-python",
   "name": "python",
   "nbconvert_exporter": "python",
   "pygments_lexer": "ipython3",
   "version": "3.8.8"
  },
  "toc": {
   "base_numbering": 1,
   "nav_menu": {},
   "number_sections": true,
   "sideBar": true,
   "skip_h1_title": false,
   "title_cell": "Table of Contents",
   "title_sidebar": "Contents",
   "toc_cell": false,
   "toc_position": {},
   "toc_section_display": true,
   "toc_window_display": true
  }
 },
 "nbformat": 4,
 "nbformat_minor": 5
}
