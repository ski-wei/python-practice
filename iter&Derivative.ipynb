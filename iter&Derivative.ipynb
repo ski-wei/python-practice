{
 "cells": [
  {
   "cell_type": "markdown",
   "id": "799e0744",
   "metadata": {},
   "source": [
    "# 迭代器和推导式"
   ]
  },
  {
   "cell_type": "markdown",
   "id": "f0743857",
   "metadata": {},
   "source": [
    "**1. zip()**\n",
    "\n",
    "使用`zip()`进行迭代"
   ]
  },
  {
   "cell_type": "code",
   "execution_count": 1,
   "id": "a83d6db9",
   "metadata": {},
   "outputs": [
    {
     "name": "stdout",
     "output_type": "stream",
     "text": [
      "Monday : drink coffee - eat banana -enjoy tiramisu\n",
      "Tuesday : drink tea - eat orange -enjoy ice cream\n",
      "Wednesday : drink beer - eat peach -enjoy pie\n"
     ]
    }
   ],
   "source": [
    "days = ['Monday', 'Tuesday', 'Wednesday']\n",
    "fruits = ['banana', 'orange', 'peach']\n",
    "drinks = ['coffee', 'tea','beer']\n",
    "desserts = ['tiramisu', 'ice cream', 'pie', 'pudding']\n",
    "\n",
    "for day, fruit, drink, dessert in zip(days, fruits, drinks, desserts):\n",
    "    print(day, \": drink\", drink, \"- eat\", fruit, \"-enjoy\", dessert)"
   ]
  },
  {
   "cell_type": "markdown",
   "id": "67e04527",
   "metadata": {},
   "source": [
    "**2. 推导式**\n",
    "\n",
    "从一个或多个迭代器快速简洁地创建数据结构，更像`Python`的风格\n",
    "\n",
    "**2.1 列表推导式**\n",
    "\n",
    "\\[expression for item in iterable\\]"
   ]
  },
  {
   "cell_type": "code",
   "execution_count": 2,
   "id": "17f6299e",
   "metadata": {},
   "outputs": [
    {
     "data": {
      "text/plain": [
       "[1, 2, 3, 4, 5]"
      ]
     },
     "execution_count": 2,
     "metadata": {},
     "output_type": "execute_result"
    }
   ],
   "source": [
    "number_list = [number for number in range(1,6)]\n",
    "\n",
    "# output\n",
    "number_list"
   ]
  },
  {
   "cell_type": "markdown",
   "id": "8210da51",
   "metadata": {},
   "source": [
    "\\[expression for item in iterable if condition\\]"
   ]
  },
  {
   "cell_type": "code",
   "execution_count": 3,
   "id": "d3b00e8e",
   "metadata": {},
   "outputs": [
    {
     "data": {
      "text/plain": [
       "[2, 4, 6, 8]"
      ]
     },
     "execution_count": 3,
     "metadata": {},
     "output_type": "execute_result"
    }
   ],
   "source": [
    "a_list = [number for number in range(1,10) if number%2 == 0]\n",
    "\n",
    "# output\n",
    "a_list"
   ]
  },
  {
   "cell_type": "markdown",
   "id": "9f4181a1",
   "metadata": {},
   "source": [
    "嵌套循环"
   ]
  },
  {
   "cell_type": "code",
   "execution_count": 4,
   "id": "9d900762",
   "metadata": {},
   "outputs": [
    {
     "name": "stdout",
     "output_type": "stream",
     "text": [
      "(1, 1)\n",
      "(1, 2)\n",
      "(2, 1)\n",
      "(2, 2)\n",
      "(3, 1)\n",
      "(3, 2)\n"
     ]
    }
   ],
   "source": [
    "rows = range(1,4)\n",
    "cols = range(1,3)\n",
    "cells = [(row,col) for row in rows for col in cols]\n",
    "\n",
    "# output \n",
    "for cell in cells:\n",
    "    print(cell)"
   ]
  },
  {
   "cell_type": "markdown",
   "id": "67f71030",
   "metadata": {},
   "source": [
    "**2.2 字典推导式**\n",
    "\n",
    "{key_expression : value_expression for expression in iterable}"
   ]
  },
  {
   "cell_type": "code",
   "execution_count": 5,
   "id": "afc4e352",
   "metadata": {},
   "outputs": [
    {
     "data": {
      "text/plain": [
       "{'r': 1, 's': 1, 'e': 2, 't': 2, 'l': 1}"
      ]
     },
     "execution_count": 5,
     "metadata": {},
     "output_type": "execute_result"
    }
   ],
   "source": [
    "word = 'letters'\n",
    "letter_counts = {letter: word.count(letter) for letter in set(word)}\n",
    "\n",
    "# output\n",
    "letter_counts"
   ]
  },
  {
   "cell_type": "code",
   "execution_count": 6,
   "id": "603ee655",
   "metadata": {},
   "outputs": [
    {
     "data": {
      "text/plain": [
       "{'l': 1, 'e': 2, 't': 2, 'r': 1, 's': 1}"
      ]
     },
     "execution_count": 6,
     "metadata": {},
     "output_type": "execute_result"
    }
   ],
   "source": [
    "word = 'letters'\n",
    "letter_counts = {letter: word.count(letter) for letter in word}\n",
    "\n",
    "# output\n",
    "letter_counts"
   ]
  },
  {
   "cell_type": "markdown",
   "id": "a6e9c127",
   "metadata": {},
   "source": [
    "**2.3 生成器推导式**\n",
    "\n",
    "圆括号对应生成器推导式，返回生成器对象，一个生成器只能运行一次，仅在运行时产生值。"
   ]
  },
  {
   "cell_type": "code",
   "execution_count": 8,
   "id": "ce1dc7db",
   "metadata": {},
   "outputs": [
    {
     "name": "stdout",
     "output_type": "stream",
     "text": [
      "<class 'generator'>\n",
      "[1, 2, 3, 4, 5, 6, 7, 8, 9, 10]\n",
      "[]\n"
     ]
    }
   ],
   "source": [
    "number_thing = (number for number in range(1,11))\n",
    "\n",
    "print(type(number_thing))\n",
    "\n",
    "number_list = list(number_thing)\n",
    "print(number_list)\n",
    "\n",
    "try_again = list(number_thing)\n",
    "print(try_again)"
   ]
  },
  {
   "cell_type": "code",
   "execution_count": null,
   "id": "ebda68a3",
   "metadata": {},
   "outputs": [],
   "source": []
  }
 ],
 "metadata": {
  "kernelspec": {
   "display_name": "Python 3",
   "language": "python",
   "name": "python3"
  },
  "language_info": {
   "codemirror_mode": {
    "name": "ipython",
    "version": 3
   },
   "file_extension": ".py",
   "mimetype": "text/x-python",
   "name": "python",
   "nbconvert_exporter": "python",
   "pygments_lexer": "ipython3",
   "version": "3.8.8"
  }
 },
 "nbformat": 4,
 "nbformat_minor": 5
}
