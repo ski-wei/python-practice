{
 "cells": [
  {
   "cell_type": "markdown",
   "id": "c0ca93ef",
   "metadata": {},
   "source": [
    "# Python 中的模块，包和程序\n",
    "## 1. 模块的搜索路径"
   ]
  },
  {
   "cell_type": "code",
   "execution_count": 1,
   "id": "04cbaf0c",
   "metadata": {},
   "outputs": [
    {
     "name": "stdout",
     "output_type": "stream",
     "text": [
      "/home/weiqian/python-practice\n",
      "/home/weiqian/anaconda3/lib/python38.zip\n",
      "/home/weiqian/anaconda3/lib/python3.8\n",
      "/home/weiqian/anaconda3/lib/python3.8/lib-dynload\n",
      "\n",
      "/home/weiqian/anaconda3/lib/python3.8/site-packages\n",
      "/home/weiqian/anaconda3/lib/python3.8/site-packages/locket-0.2.1-py3.8.egg\n",
      "/home/weiqian/anaconda3/lib/python3.8/site-packages/IPython/extensions\n",
      "/home/weiqian/.ipython\n"
     ]
    }
   ],
   "source": [
    "# print which dir was searched when using my laptop\n",
    "import sys\n",
    "\n",
    "for place in sys.path:\n",
    "    print(place)"
   ]
  },
  {
   "cell_type": "markdown",
   "id": "ed04eaa2",
   "metadata": {},
   "source": [
    "# 2. 包\n",
    "\n",
    "  可以把多个模块组织成文件层次，称之为包。例见目录`boxes`：目录`sources`中包含两个模块`daily.py`和`weekly.py`，在`sources`目录下再添加一个文件`__init__.py`，该文件可以为空，`Python`依据这个文件把该目录作为一个包。"
   ]
  },
  {
   "cell_type": "markdown",
   "id": "209c094f",
   "metadata": {},
   "source": [
    "# 3. Python 标准库\n",
    "## 3.1 `setdefault()`和 `defaultdict()`\n",
    "\n",
    "`setdefault()`类似于`get()`，当键不存在时它会在字典中添加一项。"
   ]
  },
  {
   "cell_type": "code",
   "execution_count": 2,
   "id": "c148b9df",
   "metadata": {},
   "outputs": [
    {
     "name": "stdout",
     "output_type": "stream",
     "text": [
      "{'Hydrogen': 1, 'Helium': 2}\n",
      "After setdefault():\n",
      "{'Hydrogen': 1, 'Helium': 2, 'Carbon': 12}\n"
     ]
    }
   ],
   "source": [
    "periodic_table = {'Hydrogen' : 1, 'Helium' : 2}\n",
    "print(periodic_table)\n",
    "\n",
    "print(\"After setdefault():\")\n",
    "carbon = periodic_table.setdefault('Carbon',12)\n",
    "print(periodic_table)"
   ]
  },
  {
   "cell_type": "markdown",
   "id": "4414d1a9",
   "metadata": {},
   "source": [
    "`defaultdict()`与其类似，但在创建字典时，会对每个新的键指定默认值，且`defaultdict()`的参数为一个函数。"
   ]
  },
  {
   "cell_type": "code",
   "execution_count": 3,
   "id": "a73d47e4",
   "metadata": {},
   "outputs": [
    {
     "name": "stdout",
     "output_type": "stream",
     "text": [
      "defaultdict(<class 'int'>, {'Hydrogen': 1, 'Lead': 0})\n"
     ]
    }
   ],
   "source": [
    "from collections import defaultdict\n",
    "periodic_table = defaultdict(int)\n",
    "\n",
    "periodic_table['Hydrogen'] = 1\n",
    "periodic_table['Lead']\n",
    "\n",
    "print(periodic_table)"
   ]
  },
  {
   "cell_type": "markdown",
   "id": "f3af8dd4",
   "metadata": {},
   "source": [
    "**注：** 可以使用函数`int()`/`list()`/`dict()`返回默认的空值，`int()`返回 0，`list()`返回空列表([])，`dict()`返回空字典({})"
   ]
  },
  {
   "cell_type": "markdown",
   "id": "9ad9ebf2",
   "metadata": {},
   "source": [
    "## 3.2 使用`Count()`计数"
   ]
  },
  {
   "cell_type": "code",
   "execution_count": 4,
   "id": "f91c5b87",
   "metadata": {},
   "outputs": [
    {
     "name": "stdout",
     "output_type": "stream",
     "text": [
      "Counter({'spam': 3, 'eggs': 1})\n"
     ]
    }
   ],
   "source": [
    "from collections import Counter\n",
    "\n",
    "breakfast = ['spam', 'spam', 'eggs', 'spam']\n",
    "breakfast_counter = Counter(breakfast)\n",
    "print(breakfast_counter)"
   ]
  },
  {
   "cell_type": "markdown",
   "id": "3608941f",
   "metadata": {},
   "source": [
    "## 3.3 使用有序字典`OrderedDict()`\n",
    "\n",
    "字典中键的顺序是不可预知的，`OrderedDict()`可以记忆字典键添加的顺序。"
   ]
  },
  {
   "cell_type": "code",
   "execution_count": 7,
   "id": "31e0c9a9",
   "metadata": {},
   "outputs": [
    {
     "name": "stdout",
     "output_type": "stream",
     "text": [
      "Moe : A wise guy, huh?\n",
      "Larry : Ow!\n",
      "Curly : Nyuk nyuk!\n"
     ]
    }
   ],
   "source": [
    "from collections import OrderedDict\n",
    "\n",
    "quotes = OrderedDict([\n",
    "    ('Moe', 'A wise guy, huh?'),\n",
    "    ('Larry', 'Ow!'),\n",
    "    ('Curly', 'Nyuk nyuk!'),\n",
    "])\n",
    "\n",
    "for stooge in quotes:\n",
    "    print(stooge, ':',quotes[stooge])"
   ]
  },
  {
   "cell_type": "markdown",
   "id": "58d00c52",
   "metadata": {},
   "source": [
    "## 3.4 双端队列： 栈 + 队列\n",
    "\n",
    "`deque` 是一种双端队列， `popleft()`去掉最左边的项并返回该项， `pop()`去掉最右边的项并返回该项。"
   ]
  },
  {
   "cell_type": "code",
   "execution_count": 10,
   "id": "56e1f59d",
   "metadata": {},
   "outputs": [
    {
     "name": "stdout",
     "output_type": "stream",
     "text": [
      "deque(['a', 'j', 'y', 's', 'k', 'f', 'g', 'h', 'i', 'a', 'j', 's', 'n', 3])\n",
      "deque(['a', 'j', 'y', 's', 'k', 'f', 'g', 'h', 'i', 'a', 'j', 's', 'n', 3, 8])\n",
      "a 8\n"
     ]
    }
   ],
   "source": [
    "from collections import deque\n",
    "\n",
    "word = 'ajyskfghiajsn'\n",
    "\n",
    "dq=deque(word)\n",
    "dq.append(3)\n",
    "print(dq)\n",
    "\n",
    "dq.append(8)\n",
    "print(dq)\n",
    "\n",
    "left_dq = dq.popleft()\n",
    "right_dq = dq.pop()\n",
    "print(left_dq, right_dq)"
   ]
  },
  {
   "cell_type": "markdown",
   "id": "d2d12af3",
   "metadata": {},
   "source": [
    "## 3.5 `itertools`迭代代码"
   ]
  },
  {
   "cell_type": "code",
   "execution_count": 15,
   "id": "90d0c4bd",
   "metadata": {},
   "outputs": [
    {
     "name": "stdout",
     "output_type": "stream",
     "text": [
      "chain():\n",
      "1\n",
      "2\n",
      "a\n",
      "b\n",
      "accumulate():\n",
      "1\n",
      "3\n",
      "6\n",
      "10\n",
      "accumulate()& multiply:\n",
      "1\n",
      "2\n",
      "6\n",
      "24\n"
     ]
    }
   ],
   "source": [
    "import itertools\n",
    "\n",
    "print(\"chain():\")\n",
    "for item in itertools.chain([1,2],['a','b']):\n",
    "    print(item)\n",
    "\n",
    "print(\"accumulate():\")\n",
    "def multiply(a, b):\n",
    "    return a*b\n",
    "\n",
    "for item in itertools.accumulate([1,2,3,4]):\n",
    "    print(item)\n",
    "print(\"accumulate()& multiply:\")\n",
    "for item in itertools.accumulate([1,2,3,4], multiply):\n",
    "    pprint(item)"
   ]
  },
  {
   "cell_type": "markdown",
   "id": "aca9ffd6",
   "metadata": {},
   "source": [
    "## 3.6 使用`pprint()`友好输出"
   ]
  },
  {
   "cell_type": "code",
   "execution_count": 16,
   "id": "37e0255c",
   "metadata": {},
   "outputs": [
    {
     "name": "stdout",
     "output_type": "stream",
     "text": [
      "OrderedDict([('Moe', 'A wise guy, huh?'), ('Larry', 'Ow!'), ('Curly', 'Nyuk nyuk!')])\n",
      "OrderedDict([('Moe', 'A wise guy, huh?'),\n",
      "             ('Larry', 'Ow!'),\n",
      "             ('Curly', 'Nyuk nyuk!')])\n"
     ]
    }
   ],
   "source": [
    "from pprint import pprint\n",
    "\n",
    "quotes = OrderedDict([\n",
    "    ('Moe', 'A wise guy, huh?'),\n",
    "    ('Larry', 'Ow!'),\n",
    "    ('Curly', 'Nyuk nyuk!'),\n",
    "])\n",
    "\n",
    "print(quotes)\n",
    "pprint(quotes)"
   ]
  }
 ],
 "metadata": {
  "kernelspec": {
   "display_name": "Python 3",
   "language": "python",
   "name": "python3"
  },
  "language_info": {
   "codemirror_mode": {
    "name": "ipython",
    "version": 3
   },
   "file_extension": ".py",
   "mimetype": "text/x-python",
   "name": "python",
   "nbconvert_exporter": "python",
   "pygments_lexer": "ipython3",
   "version": "3.8.8"
  }
 },
 "nbformat": 4,
 "nbformat_minor": 5
}
