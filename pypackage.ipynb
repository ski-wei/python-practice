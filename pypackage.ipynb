{
 "cells": [
  {
   "cell_type": "markdown",
   "id": "c0ca93ef",
   "metadata": {},
   "source": [
    "# Python 中的模块，包和程序\n",
    "## 1. 模块的搜索路径"
   ]
  },
  {
   "cell_type": "code",
   "execution_count": 1,
   "id": "04cbaf0c",
   "metadata": {},
   "outputs": [
    {
     "name": "stdout",
     "output_type": "stream",
     "text": [
      "/home/weiqian/python-practice\n",
      "/home/weiqian/anaconda3/lib/python38.zip\n",
      "/home/weiqian/anaconda3/lib/python3.8\n",
      "/home/weiqian/anaconda3/lib/python3.8/lib-dynload\n",
      "\n",
      "/home/weiqian/anaconda3/lib/python3.8/site-packages\n",
      "/home/weiqian/anaconda3/lib/python3.8/site-packages/locket-0.2.1-py3.8.egg\n",
      "/home/weiqian/anaconda3/lib/python3.8/site-packages/IPython/extensions\n",
      "/home/weiqian/.ipython\n"
     ]
    }
   ],
   "source": [
    "# print which dir was searched when using my laptop\n",
    "import sys\n",
    "\n",
    "for place in sys.path:\n",
    "    print(place)"
   ]
  },
  {
   "cell_type": "code",
   "execution_count": null,
   "id": "b35a4374",
   "metadata": {},
   "outputs": [],
   "source": []
  }
 ],
 "metadata": {
  "kernelspec": {
   "display_name": "Python 3",
   "language": "python",
   "name": "python3"
  },
  "language_info": {
   "codemirror_mode": {
    "name": "ipython",
    "version": 3
   },
   "file_extension": ".py",
   "mimetype": "text/x-python",
   "name": "python",
   "nbconvert_exporter": "python",
   "pygments_lexer": "ipython3",
   "version": "3.8.8"
  }
 },
 "nbformat": 4,
 "nbformat_minor": 5
}
